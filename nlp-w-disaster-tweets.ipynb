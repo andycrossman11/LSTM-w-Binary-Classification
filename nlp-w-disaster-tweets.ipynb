{
 "cells": [
  {
   "cell_type": "code",
   "execution_count": 1,
   "id": "5a352c4a",
   "metadata": {
    "_cell_guid": "b1076dfc-b9ad-4769-8c92-a6c4dae69d19",
    "_uuid": "8f2839f25d086af736a60e9eeb907d3b93b6e0e5",
    "execution": {
     "iopub.execute_input": "2024-10-12T17:21:39.450583Z",
     "iopub.status.busy": "2024-10-12T17:21:39.450205Z",
     "iopub.status.idle": "2024-10-12T17:21:45.468439Z",
     "shell.execute_reply": "2024-10-12T17:21:45.467376Z"
    },
    "papermill": {
     "duration": 6.035874,
     "end_time": "2024-10-12T17:21:45.470553",
     "exception": false,
     "start_time": "2024-10-12T17:21:39.434679",
     "status": "completed"
    },
    "tags": []
   },
   "outputs": [
    {
     "name": "stdout",
     "output_type": "stream",
     "text": [
      "/kaggle/input/nlp-getting-started/sample_submission.csv\n",
      "/kaggle/input/nlp-getting-started/train.csv\n",
      "/kaggle/input/nlp-getting-started/test.csv\n",
      "[nltk_data] Downloading package punkt to /usr/share/nltk_data...\n",
      "[nltk_data]   Package punkt is already up-to-date!\n"
     ]
    }
   ],
   "source": [
    "# This Python 3 environment comes with many helpful analytics libraries installed\n",
    "# It is defined by the kaggle/python Docker image: https://github.com/kaggle/docker-python\n",
    "# For example, here's several helpful packages to load\n",
    "\n",
    "import numpy as np # linear algebra\n",
    "import pandas as pd # data processing, CSV file I/O (e.g. pd.read_csv)\n",
    "\n",
    "# Input data files are available in the read-only \"../input/\" directory\n",
    "# For example, running this (by clicking run or pressing Shift+Enter) will list all files under the input directory\n",
    "\n",
    "import os\n",
    "for dirname, _, filenames in os.walk('/kaggle/input'):\n",
    "    for filename in filenames:\n",
    "        print(os.path.join(dirname, filename))\n",
    "        \n",
    "import re\n",
    "import nltk\n",
    "from nltk.util import ngrams\n",
    "from nltk.corpus import stopwords\n",
    "stop=set(stopwords.words('english'))\n",
    "from sklearn.feature_extraction.text import CountVectorizer, TfidfVectorizer\n",
    "import string\n",
    "\n",
    "import nltk\n",
    "from nltk.stem import PorterStemmer\n",
    "from nltk.tokenize import word_tokenize\n",
    "import torch\n",
    "\n",
    "nltk.download('punkt')\n",
    "\n",
    "stemmer = PorterStemmer()\n",
    "\n",
    "# You can write up to 20GB to the current directory (/kaggle/working/) that gets preserved as output when you create a version using \"Save & Run All\" \n",
    "# You can also write temporary files to /kaggle/temp/, but they won't be saved outside of the current session"
   ]
  },
  {
   "cell_type": "markdown",
   "id": "aa8e612c",
   "metadata": {
    "papermill": {
     "duration": 0.012972,
     "end_time": "2024-10-12T17:21:45.498234",
     "exception": false,
     "start_time": "2024-10-12T17:21:45.485262",
     "status": "completed"
    },
    "tags": []
   },
   "source": [
    "## Initial EDA"
   ]
  },
  {
   "cell_type": "code",
   "execution_count": 2,
   "id": "7e317fe6",
   "metadata": {
    "execution": {
     "iopub.execute_input": "2024-10-12T17:21:45.526540Z",
     "iopub.status.busy": "2024-10-12T17:21:45.525641Z",
     "iopub.status.idle": "2024-10-12T17:21:45.597075Z",
     "shell.execute_reply": "2024-10-12T17:21:45.596156Z"
    },
    "papermill": {
     "duration": 0.087601,
     "end_time": "2024-10-12T17:21:45.599161",
     "exception": false,
     "start_time": "2024-10-12T17:21:45.511560",
     "status": "completed"
    },
    "tags": []
   },
   "outputs": [
    {
     "data": {
      "text/html": [
       "<div>\n",
       "<style scoped>\n",
       "    .dataframe tbody tr th:only-of-type {\n",
       "        vertical-align: middle;\n",
       "    }\n",
       "\n",
       "    .dataframe tbody tr th {\n",
       "        vertical-align: top;\n",
       "    }\n",
       "\n",
       "    .dataframe thead th {\n",
       "        text-align: right;\n",
       "    }\n",
       "</style>\n",
       "<table border=\"1\" class=\"dataframe\">\n",
       "  <thead>\n",
       "    <tr style=\"text-align: right;\">\n",
       "      <th></th>\n",
       "      <th>id</th>\n",
       "      <th>keyword</th>\n",
       "      <th>location</th>\n",
       "      <th>text</th>\n",
       "      <th>target</th>\n",
       "    </tr>\n",
       "  </thead>\n",
       "  <tbody>\n",
       "    <tr>\n",
       "      <th>0</th>\n",
       "      <td>1</td>\n",
       "      <td>NaN</td>\n",
       "      <td>NaN</td>\n",
       "      <td>Our Deeds are the Reason of this #earthquake M...</td>\n",
       "      <td>1</td>\n",
       "    </tr>\n",
       "    <tr>\n",
       "      <th>1</th>\n",
       "      <td>4</td>\n",
       "      <td>NaN</td>\n",
       "      <td>NaN</td>\n",
       "      <td>Forest fire near La Ronge Sask. Canada</td>\n",
       "      <td>1</td>\n",
       "    </tr>\n",
       "    <tr>\n",
       "      <th>2</th>\n",
       "      <td>5</td>\n",
       "      <td>NaN</td>\n",
       "      <td>NaN</td>\n",
       "      <td>All residents asked to 'shelter in place' are ...</td>\n",
       "      <td>1</td>\n",
       "    </tr>\n",
       "    <tr>\n",
       "      <th>3</th>\n",
       "      <td>6</td>\n",
       "      <td>NaN</td>\n",
       "      <td>NaN</td>\n",
       "      <td>13,000 people receive #wildfires evacuation or...</td>\n",
       "      <td>1</td>\n",
       "    </tr>\n",
       "    <tr>\n",
       "      <th>4</th>\n",
       "      <td>7</td>\n",
       "      <td>NaN</td>\n",
       "      <td>NaN</td>\n",
       "      <td>Just got sent this photo from Ruby #Alaska as ...</td>\n",
       "      <td>1</td>\n",
       "    </tr>\n",
       "  </tbody>\n",
       "</table>\n",
       "</div>"
      ],
      "text/plain": [
       "   id keyword location                                               text  \\\n",
       "0   1     NaN      NaN  Our Deeds are the Reason of this #earthquake M...   \n",
       "1   4     NaN      NaN             Forest fire near La Ronge Sask. Canada   \n",
       "2   5     NaN      NaN  All residents asked to 'shelter in place' are ...   \n",
       "3   6     NaN      NaN  13,000 people receive #wildfires evacuation or...   \n",
       "4   7     NaN      NaN  Just got sent this photo from Ruby #Alaska as ...   \n",
       "\n",
       "   target  \n",
       "0       1  \n",
       "1       1  \n",
       "2       1  \n",
       "3       1  \n",
       "4       1  "
      ]
     },
     "execution_count": 2,
     "metadata": {},
     "output_type": "execute_result"
    }
   ],
   "source": [
    "total_df = pd.read_csv(\"/kaggle/input/nlp-getting-started/train.csv\")\n",
    "total_df.head(5)"
   ]
  },
  {
   "cell_type": "code",
   "execution_count": 3,
   "id": "ea29471f",
   "metadata": {
    "execution": {
     "iopub.execute_input": "2024-10-12T17:21:45.627302Z",
     "iopub.status.busy": "2024-10-12T17:21:45.627009Z",
     "iopub.status.idle": "2024-10-12T17:21:45.648349Z",
     "shell.execute_reply": "2024-10-12T17:21:45.647310Z"
    },
    "papermill": {
     "duration": 0.037562,
     "end_time": "2024-10-12T17:21:45.650312",
     "exception": false,
     "start_time": "2024-10-12T17:21:45.612750",
     "status": "completed"
    },
    "tags": []
   },
   "outputs": [
    {
     "name": "stdout",
     "output_type": "stream",
     "text": [
      "<class 'pandas.core.frame.DataFrame'>\n",
      "RangeIndex: 7613 entries, 0 to 7612\n",
      "Data columns (total 5 columns):\n",
      " #   Column    Non-Null Count  Dtype \n",
      "---  ------    --------------  ----- \n",
      " 0   id        7613 non-null   int64 \n",
      " 1   keyword   7552 non-null   object\n",
      " 2   location  5080 non-null   object\n",
      " 3   text      7613 non-null   object\n",
      " 4   target    7613 non-null   int64 \n",
      "dtypes: int64(2), object(3)\n",
      "memory usage: 297.5+ KB\n"
     ]
    }
   ],
   "source": [
    "total_df.info()"
   ]
  },
  {
   "cell_type": "code",
   "execution_count": 4,
   "id": "5d14b4a8",
   "metadata": {
    "execution": {
     "iopub.execute_input": "2024-10-12T17:21:45.679460Z",
     "iopub.status.busy": "2024-10-12T17:21:45.678793Z",
     "iopub.status.idle": "2024-10-12T17:21:45.696141Z",
     "shell.execute_reply": "2024-10-12T17:21:45.695198Z"
    },
    "papermill": {
     "duration": 0.034066,
     "end_time": "2024-10-12T17:21:45.698033",
     "exception": false,
     "start_time": "2024-10-12T17:21:45.663967",
     "status": "completed"
    },
    "tags": []
   },
   "outputs": [
    {
     "data": {
      "text/html": [
       "<div>\n",
       "<style scoped>\n",
       "    .dataframe tbody tr th:only-of-type {\n",
       "        vertical-align: middle;\n",
       "    }\n",
       "\n",
       "    .dataframe tbody tr th {\n",
       "        vertical-align: top;\n",
       "    }\n",
       "\n",
       "    .dataframe thead th {\n",
       "        text-align: right;\n",
       "    }\n",
       "</style>\n",
       "<table border=\"1\" class=\"dataframe\">\n",
       "  <thead>\n",
       "    <tr style=\"text-align: right;\">\n",
       "      <th></th>\n",
       "      <th>id</th>\n",
       "      <th>target</th>\n",
       "    </tr>\n",
       "  </thead>\n",
       "  <tbody>\n",
       "    <tr>\n",
       "      <th>count</th>\n",
       "      <td>7613.000000</td>\n",
       "      <td>7613.00000</td>\n",
       "    </tr>\n",
       "    <tr>\n",
       "      <th>mean</th>\n",
       "      <td>5441.934848</td>\n",
       "      <td>0.42966</td>\n",
       "    </tr>\n",
       "    <tr>\n",
       "      <th>std</th>\n",
       "      <td>3137.116090</td>\n",
       "      <td>0.49506</td>\n",
       "    </tr>\n",
       "    <tr>\n",
       "      <th>min</th>\n",
       "      <td>1.000000</td>\n",
       "      <td>0.00000</td>\n",
       "    </tr>\n",
       "    <tr>\n",
       "      <th>25%</th>\n",
       "      <td>2734.000000</td>\n",
       "      <td>0.00000</td>\n",
       "    </tr>\n",
       "    <tr>\n",
       "      <th>50%</th>\n",
       "      <td>5408.000000</td>\n",
       "      <td>0.00000</td>\n",
       "    </tr>\n",
       "    <tr>\n",
       "      <th>75%</th>\n",
       "      <td>8146.000000</td>\n",
       "      <td>1.00000</td>\n",
       "    </tr>\n",
       "    <tr>\n",
       "      <th>max</th>\n",
       "      <td>10873.000000</td>\n",
       "      <td>1.00000</td>\n",
       "    </tr>\n",
       "  </tbody>\n",
       "</table>\n",
       "</div>"
      ],
      "text/plain": [
       "                 id      target\n",
       "count   7613.000000  7613.00000\n",
       "mean    5441.934848     0.42966\n",
       "std     3137.116090     0.49506\n",
       "min        1.000000     0.00000\n",
       "25%     2734.000000     0.00000\n",
       "50%     5408.000000     0.00000\n",
       "75%     8146.000000     1.00000\n",
       "max    10873.000000     1.00000"
      ]
     },
     "execution_count": 4,
     "metadata": {},
     "output_type": "execute_result"
    }
   ],
   "source": [
    "total_df.describe()"
   ]
  },
  {
   "cell_type": "markdown",
   "id": "b68f865b",
   "metadata": {
    "papermill": {
     "duration": 0.013527,
     "end_time": "2024-10-12T17:21:45.725236",
     "exception": false,
     "start_time": "2024-10-12T17:21:45.711709",
     "status": "completed"
    },
    "tags": []
   },
   "source": [
    "## Initial EDA Findings:\n",
    "\n",
    "    - There are 4 predictor variables and a binary response variable\n",
    "    - The id preidctor can be dropped as it likely will provide no explanation towards the randomness in the response\n",
    "    - The text predictor will likely provide the most explanatory power, but will require a lot of pre processing\n",
    "    - The location and keyword variables have a lot of missing values and need some further investigation before using as input to a model"
   ]
  },
  {
   "cell_type": "code",
   "execution_count": 5,
   "id": "db568f1e",
   "metadata": {
    "execution": {
     "iopub.execute_input": "2024-10-12T17:21:45.754004Z",
     "iopub.status.busy": "2024-10-12T17:21:45.753442Z",
     "iopub.status.idle": "2024-10-12T17:21:45.761678Z",
     "shell.execute_reply": "2024-10-12T17:21:45.760451Z"
    },
    "papermill": {
     "duration": 0.024738,
     "end_time": "2024-10-12T17:21:45.763605",
     "exception": false,
     "start_time": "2024-10-12T17:21:45.738867",
     "status": "completed"
    },
    "tags": []
   },
   "outputs": [
    {
     "name": "stdout",
     "output_type": "stream",
     "text": [
      "keyword\n",
      "fatalities               45\n",
      "armageddon               42\n",
      "deluge                   42\n",
      "harm                     41\n",
      "damage                   41\n",
      "                         ..\n",
      "forest%20fire            19\n",
      "epicentre                12\n",
      "threat                   11\n",
      "inundation               10\n",
      "radiation%20emergency     9\n",
      "Name: count, Length: 221, dtype: int64\n"
     ]
    }
   ],
   "source": [
    "keyword_counts = total_df['keyword'].value_counts()\n",
    "print(keyword_counts)"
   ]
  },
  {
   "cell_type": "code",
   "execution_count": 6,
   "id": "3126c5b2",
   "metadata": {
    "execution": {
     "iopub.execute_input": "2024-10-12T17:21:45.793049Z",
     "iopub.status.busy": "2024-10-12T17:21:45.792204Z",
     "iopub.status.idle": "2024-10-12T17:21:45.798560Z",
     "shell.execute_reply": "2024-10-12T17:21:45.797697Z"
    },
    "papermill": {
     "duration": 0.023123,
     "end_time": "2024-10-12T17:21:45.800640",
     "exception": false,
     "start_time": "2024-10-12T17:21:45.777517",
     "status": "completed"
    },
    "tags": []
   },
   "outputs": [],
   "source": [
    "def count_occurrences(df: pd.DataFrame, column_to_count: str) -> float:\n",
    "    count = 0\n",
    "    for index, row in df.iterrows():\n",
    "        text = row['text']\n",
    "        value = row[column_to_count]\n",
    "\n",
    "        if value != np.nan and type(value) != float and value.lower() in text.lower():\n",
    "            count += 1\n",
    "    percentage = (count / len(df)) * 100\n",
    "    return round(percentage, 3)"
   ]
  },
  {
   "cell_type": "code",
   "execution_count": 7,
   "id": "9deb0705",
   "metadata": {
    "execution": {
     "iopub.execute_input": "2024-10-12T17:21:45.829540Z",
     "iopub.status.busy": "2024-10-12T17:21:45.829203Z",
     "iopub.status.idle": "2024-10-12T17:21:46.266139Z",
     "shell.execute_reply": "2024-10-12T17:21:46.265155Z"
    },
    "papermill": {
     "duration": 0.453845,
     "end_time": "2024-10-12T17:21:46.268319",
     "exception": false,
     "start_time": "2024-10-12T17:21:45.814474",
     "status": "completed"
    },
    "tags": []
   },
   "outputs": [
    {
     "name": "stdout",
     "output_type": "stream",
     "text": [
      "78.458% of text blocks have their keyword in them\n"
     ]
    }
   ],
   "source": [
    "percentage_sentences_w_keyword = count_occurrences(total_df, 'keyword')\n",
    "print(f\"{percentage_sentences_w_keyword}% of text blocks have their keyword in them\")"
   ]
  },
  {
   "cell_type": "code",
   "execution_count": 8,
   "id": "a292a481",
   "metadata": {
    "execution": {
     "iopub.execute_input": "2024-10-12T17:21:46.297730Z",
     "iopub.status.busy": "2024-10-12T17:21:46.297381Z",
     "iopub.status.idle": "2024-10-12T17:21:46.306542Z",
     "shell.execute_reply": "2024-10-12T17:21:46.305366Z"
    },
    "papermill": {
     "duration": 0.026104,
     "end_time": "2024-10-12T17:21:46.308549",
     "exception": false,
     "start_time": "2024-10-12T17:21:46.282445",
     "status": "completed"
    },
    "tags": []
   },
   "outputs": [
    {
     "name": "stdout",
     "output_type": "stream",
     "text": [
      "location\n",
      "USA                    104\n",
      "New York                71\n",
      "United States           50\n",
      "London                  45\n",
      "Canada                  29\n",
      "                      ... \n",
      "Some pum pum             1\n",
      "Paulton, England         1\n",
      "SEA Server               1\n",
      "todaysbigstock.com       1\n",
      "???????? ?????????.      1\n",
      "Name: count, Length: 3341, dtype: int64\n"
     ]
    }
   ],
   "source": [
    "location_counts = total_df['location'].value_counts()\n",
    "print(location_counts)"
   ]
  },
  {
   "cell_type": "code",
   "execution_count": 9,
   "id": "69c52b8d",
   "metadata": {
    "execution": {
     "iopub.execute_input": "2024-10-12T17:21:46.340239Z",
     "iopub.status.busy": "2024-10-12T17:21:46.339513Z",
     "iopub.status.idle": "2024-10-12T17:21:46.770412Z",
     "shell.execute_reply": "2024-10-12T17:21:46.769515Z"
    },
    "papermill": {
     "duration": 0.449539,
     "end_time": "2024-10-12T17:21:46.772632",
     "exception": false,
     "start_time": "2024-10-12T17:21:46.323093",
     "status": "completed"
    },
    "tags": []
   },
   "outputs": [
    {
     "name": "stdout",
     "output_type": "stream",
     "text": [
      "1.038% of text blocks have their location in them\n"
     ]
    }
   ],
   "source": [
    "percentage_sentences_w_location = count_occurrences(total_df, 'location')\n",
    "print(f\"{percentage_sentences_w_location}% of text blocks have their location in them\")"
   ]
  },
  {
   "cell_type": "code",
   "execution_count": 10,
   "id": "628b1fa9",
   "metadata": {
    "execution": {
     "iopub.execute_input": "2024-10-12T17:21:46.802488Z",
     "iopub.status.busy": "2024-10-12T17:21:46.801916Z",
     "iopub.status.idle": "2024-10-12T17:21:46.808777Z",
     "shell.execute_reply": "2024-10-12T17:21:46.807791Z"
    },
    "papermill": {
     "duration": 0.024028,
     "end_time": "2024-10-12T17:21:46.810869",
     "exception": false,
     "start_time": "2024-10-12T17:21:46.786841",
     "status": "completed"
    },
    "tags": []
   },
   "outputs": [
    {
     "name": "stdout",
     "output_type": "stream",
     "text": [
      "location\n",
      "USA                  104\n",
      "New York              71\n",
      "United States         50\n",
      "London                45\n",
      "Canada                29\n",
      "                    ... \n",
      "Oklahoma City, OK      6\n",
      "Planet Earth           6\n",
      "Massachusetts          6\n",
      "Brooklyn, NY           6\n",
      "Charlotte, NC          6\n",
      "Name: count, Length: 76, dtype: int64\n"
     ]
    }
   ],
   "source": [
    "location_counts = location_counts[location_counts > 5]\n",
    "print(location_counts)"
   ]
  },
  {
   "cell_type": "markdown",
   "id": "7c220663",
   "metadata": {
    "papermill": {
     "duration": 0.013942,
     "end_time": "2024-10-12T17:21:46.838920",
     "exception": false,
     "start_time": "2024-10-12T17:21:46.824978",
     "status": "completed"
    },
    "tags": []
   },
   "source": [
    "## Location & Keyword Findings\n",
    "\n",
    "    - About 78% of the texts hold their keyword in them so this would likely provide redundant information\n",
    "    - About 1% of the texts hold their location in them so this would be new information, but there are 3,341 unique values and a lot look to be useless\n",
    "    - Therefore, I will leave these variables out of the model and attempt to train on the text variable exclusively"
   ]
  },
  {
   "cell_type": "code",
   "execution_count": 11,
   "id": "d75a1602",
   "metadata": {
    "execution": {
     "iopub.execute_input": "2024-10-12T17:21:46.868922Z",
     "iopub.status.busy": "2024-10-12T17:21:46.868155Z",
     "iopub.status.idle": "2024-10-12T17:21:47.481347Z",
     "shell.execute_reply": "2024-10-12T17:21:47.480475Z"
    },
    "papermill": {
     "duration": 0.631095,
     "end_time": "2024-10-12T17:21:47.484053",
     "exception": false,
     "start_time": "2024-10-12T17:21:46.852958",
     "status": "completed"
    },
    "tags": []
   },
   "outputs": [
    {
     "data": {
      "image/png": "[encoded data removed]",
      "text/plain": [
       "<Figure size 640x480 with 1 Axes>"
      ]
     },
     "metadata": {},
     "output_type": "display_data"
    },
    {
     "name": "stdout",
     "output_type": "stream",
     "text": [
      "MLE of p: 0.4296597924602653\n"
     ]
    }
   ],
   "source": [
    "import seaborn as sns\n",
    "import matplotlib.pyplot as plt\n",
    "\n",
    "sns.countplot(x='target', data=total_df)\n",
    "plt.title(\"Distribution of Labels\")\n",
    "plt.show()\n",
    "\n",
    "print(f\"MLE of p: {total_df['target'].mean()}\")"
   ]
  },
  {
   "cell_type": "markdown",
   "id": "37249f42",
   "metadata": {
    "papermill": {
     "duration": 0.014164,
     "end_time": "2024-10-12T17:21:47.513086",
     "exception": false,
     "start_time": "2024-10-12T17:21:47.498922",
     "status": "completed"
    },
    "tags": []
   },
   "source": [
    "## Response Distribution\n",
    "\n",
    "    - The bernoulli distribution in this training set is skewed towards 0, with the MLE of p = .4297\n",
    "    - I'll rescale the loss weight associated with positive label type to account for the unbalanced dataset.\n",
    "    - A postive label loss weight of (1 - .4297) / .4297 will make updates to misclassified positive inputs be weighted heavier."
   ]
  },
  {
   "cell_type": "code",
   "execution_count": 12,
   "id": "f866f569",
   "metadata": {
    "execution": {
     "iopub.execute_input": "2024-10-12T17:21:47.543682Z",
     "iopub.status.busy": "2024-10-12T17:21:47.543029Z",
     "iopub.status.idle": "2024-10-12T17:21:47.550129Z",
     "shell.execute_reply": "2024-10-12T17:21:47.548778Z"
    },
    "papermill": {
     "duration": 0.025506,
     "end_time": "2024-10-12T17:21:47.552957",
     "exception": false,
     "start_time": "2024-10-12T17:21:47.527451",
     "status": "completed"
    },
    "tags": []
   },
   "outputs": [
    {
     "name": "stdout",
     "output_type": "stream",
     "text": [
      "POSITIVE LABEL LOSS WEIGHT: 1.3274228064811986\n"
     ]
    }
   ],
   "source": [
    "POS_WEIGHT = (1 - total_df['target'].mean()) / total_df['target'].mean()\n",
    "print(f\"POSITIVE LABEL LOSS WEIGHT: {POS_WEIGHT}\")"
   ]
  },
  {
   "cell_type": "markdown",
   "id": "447ff072",
   "metadata": {
    "papermill": {
     "duration": 0.018008,
     "end_time": "2024-10-12T17:21:47.589185",
     "exception": false,
     "start_time": "2024-10-12T17:21:47.571177",
     "status": "completed"
    },
    "tags": []
   },
   "source": [
    "## Preprocessing Text\n",
    "\n",
    "    - I found some great functions for cleaning text on other work\n",
    "    - The preprocessing work includes:\n",
    "        - lowering text\n",
    "        - removing punctuation\n",
    "        - removing urls\n",
    "        - removing brackets\n",
    "        - removing newline\n",
    "        - removing digits\n",
    "        - removing emojis\n",
    "    - Tokenize the cleaned text\n",
    "    - After all the above is removed, I use a porter stemmer to replace words to their stemmed version"
   ]
  },
  {
   "cell_type": "code",
   "execution_count": 13,
   "id": "3473db65",
   "metadata": {
    "execution": {
     "iopub.execute_input": "2024-10-12T17:21:47.625604Z",
     "iopub.status.busy": "2024-10-12T17:21:47.624782Z",
     "iopub.status.idle": "2024-10-12T17:21:47.633210Z",
     "shell.execute_reply": "2024-10-12T17:21:47.632313Z"
    },
    "papermill": {
     "duration": 0.026596,
     "end_time": "2024-10-12T17:21:47.635270",
     "exception": false,
     "start_time": "2024-10-12T17:21:47.608674",
     "status": "completed"
    },
    "tags": []
   },
   "outputs": [],
   "source": [
    "#Function from https://www.kaggle.com/code/mariapushkareva/nlp-disaster-tweets-with-glove-and-lstm#EDA-and-Preprocessing\n",
    "def clean_text(text: str):\n",
    "    '''Make text lowercase, remove text in square brackets,remove links,remove punctuation\n",
    "    and remove words containing numbers.'''\n",
    "    text = text.lower()\n",
    "    text = re.sub('\\[.*?\\]', '', text)\n",
    "    text = re.sub('https?://\\S+|www\\.\\S+', '', text)\n",
    "    text = re.sub('<.*?>+', '', text)\n",
    "    text = re.sub('[%s]' % re.escape(string.punctuation), '', text)\n",
    "    text = re.sub('\\n', '', text)\n",
    "    text = re.sub('\\w*\\d\\w*', '', text)\n",
    "    return text"
   ]
  },
  {
   "cell_type": "code",
   "execution_count": 14,
   "id": "b1b31b0a",
   "metadata": {
    "execution": {
     "iopub.execute_input": "2024-10-12T17:21:47.673891Z",
     "iopub.status.busy": "2024-10-12T17:21:47.673347Z",
     "iopub.status.idle": "2024-10-12T17:21:47.679767Z",
     "shell.execute_reply": "2024-10-12T17:21:47.678599Z"
    },
    "papermill": {
     "duration": 0.031906,
     "end_time": "2024-10-12T17:21:47.682053",
     "exception": false,
     "start_time": "2024-10-12T17:21:47.650147",
     "status": "completed"
    },
    "tags": []
   },
   "outputs": [],
   "source": [
    "#Function from https://www.kaggle.com/code/andreshg/nlp-glove-bert-tf-idf-lstm-explained#3.-Data-Pre-processing-%F0%9F%9B%A0\n",
    "def remove_emoji(text: str):\n",
    "    emoji_pattern = re.compile(\n",
    "        '['\n",
    "        u'\\U0001F600-\\U0001F64F'  # emoticons\n",
    "        u'\\U0001F300-\\U0001F5FF'  # symbols & pictographs\n",
    "        u'\\U0001F680-\\U0001F6FF'  # transport & map symbols\n",
    "        u'\\U0001F1E0-\\U0001F1FF'  # flags (iOS)\n",
    "        u'\\U00002702-\\U000027B0'\n",
    "        u'\\U000024C2-\\U0001F251'\n",
    "        ']+',\n",
    "        flags=re.UNICODE)\n",
    "    return emoji_pattern.sub(r'', text)"
   ]
  },
  {
   "cell_type": "code",
   "execution_count": 15,
   "id": "23017dd7",
   "metadata": {
    "execution": {
     "iopub.execute_input": "2024-10-12T17:21:47.717731Z",
     "iopub.status.busy": "2024-10-12T17:21:47.717370Z",
     "iopub.status.idle": "2024-10-12T17:21:47.722790Z",
     "shell.execute_reply": "2024-10-12T17:21:47.721885Z"
    },
    "papermill": {
     "duration": 0.023537,
     "end_time": "2024-10-12T17:21:47.724734",
     "exception": false,
     "start_time": "2024-10-12T17:21:47.701197",
     "status": "completed"
    },
    "tags": []
   },
   "outputs": [],
   "source": [
    "def preprocess_text(text: str) -> list[str]:\n",
    "    text = clean_text(text)\n",
    "    text = remove_emoji(text)\n",
    "    words = word_tokenize(text)\n",
    "    stemmed_words = [stemmer.stem(word) for word in words if word not in stop]\n",
    "    return stemmed_words"
   ]
  },
  {
   "cell_type": "code",
   "execution_count": 16,
   "id": "0ed36622",
   "metadata": {
    "execution": {
     "iopub.execute_input": "2024-10-12T17:21:47.756659Z",
     "iopub.status.busy": "2024-10-12T17:21:47.755801Z",
     "iopub.status.idle": "2024-10-12T17:21:51.789461Z",
     "shell.execute_reply": "2024-10-12T17:21:51.788606Z"
    },
    "papermill": {
     "duration": 4.0518,
     "end_time": "2024-10-12T17:21:51.791448",
     "exception": false,
     "start_time": "2024-10-12T17:21:47.739648",
     "status": "completed"
    },
    "tags": []
   },
   "outputs": [
    {
     "data": {
      "text/plain": [
       "0    [deed, reason, earthquak, may, allah, forgiv, us]\n",
       "1         [forest, fire, near, la, rong, sask, canada]\n",
       "2    [resid, ask, shelter, place, notifi, offic, ev...\n",
       "3    [peopl, receiv, wildfir, evacu, order, califor...\n",
       "4    [got, sent, photo, rubi, alaska, smoke, wildfi...\n",
       "Name: cleaned_text, dtype: object"
      ]
     },
     "execution_count": 16,
     "metadata": {},
     "output_type": "execute_result"
    }
   ],
   "source": [
    "total_df['cleaned_text'] = total_df[\"text\"].apply(lambda x: preprocess_text(x))\n",
    "\n",
    "total_df['cleaned_text'].head(5)"
   ]
  },
  {
   "cell_type": "markdown",
   "id": "67b75038",
   "metadata": {
    "papermill": {
     "duration": 0.014517,
     "end_time": "2024-10-12T17:21:51.821005",
     "exception": false,
     "start_time": "2024-10-12T17:21:51.806488",
     "status": "completed"
    },
    "tags": []
   },
   "source": [
    "## Embeddings\n",
    "\n",
    "    - Will use Stanford's 100 dimensional GloVe embeddings to convert cleaned tokens into numerical embeddings\n",
    "    - This task requires a glove embedding lookup table(represented with a dictionary) and a vocabulary that maps the training set's unique tokens to unique indices\n",
    "    - NOTE: An unknown token, '<UNK>' is used to map tokens unknown to Stanford's glove model or unseen tokens at inference time.\n",
    "    - The embedding matrix will be of shape (len_of_vocab, embedding_dimension). \n",
    "    - The matrix formation utilizes the vocab to store each unique token's GloVe embedding at it's designated row index(as denoted by the vocabulary).\n",
    "    - The vocabulary will be used on forward pass to feed row indices into the embedding matrix. The row indices will mimic multiplying the matrix by a one hot encoded vecotr. I.e., this will extract the necessary embedding row for downstream operations"
   ]
  },
  {
   "cell_type": "code",
   "execution_count": 17,
   "id": "613b6c54",
   "metadata": {
    "execution": {
     "iopub.execute_input": "2024-10-12T17:21:51.852554Z",
     "iopub.status.busy": "2024-10-12T17:21:51.851799Z",
     "iopub.status.idle": "2024-10-12T17:24:53.321623Z",
     "shell.execute_reply": "2024-10-12T17:24:53.320391Z"
    },
    "papermill": {
     "duration": 181.48815,
     "end_time": "2024-10-12T17:24:53.323929",
     "exception": false,
     "start_time": "2024-10-12T17:21:51.835779",
     "status": "completed"
    },
    "tags": []
   },
   "outputs": [
    {
     "name": "stdout",
     "output_type": "stream",
     "text": [
      "--2024-10-12 17:21:52--  http://nlp.stanford.edu/data/glove.6B.zip\r\n",
      "Resolving nlp.stanford.edu (nlp.stanford.edu)... 171.64.67.140\r\n",
      "Connecting to nlp.stanford.edu (nlp.stanford.edu)|171.64.67.140|:80... connected.\r\n",
      "HTTP request sent, awaiting response... 302 Found\r\n",
      "Location: https://nlp.stanford.edu/data/glove.6B.zip [following]\r\n",
      "--2024-10-12 17:21:52--  https://nlp.stanford.edu/data/glove.6B.zip\r\n",
      "Connecting to nlp.stanford.edu (nlp.stanford.edu)|171.64.67.140|:443... connected.\r\n",
      "HTTP request sent, awaiting response... 301 Moved Permanently\r\n",
      "Location: https://downloads.cs.stanford.edu/nlp/data/glove.6B.zip [following]\r\n",
      "--2024-10-12 17:21:52--  https://downloads.cs.stanford.edu/nlp/data/glove.6B.zip\r\n",
      "Resolving downloads.cs.stanford.edu (downloads.cs.stanford.edu)... 171.64.64.22\r\n",
      "Connecting to downloads.cs.stanford.edu (downloads.cs.stanford.edu)|171.64.64.22|:443... connected.\r\n",
      "HTTP request sent, awaiting response... 200 OK\r\n",
      "Length: 862182613 (822M) [application/zip]\r\n",
      "Saving to: 'glove.6B.zip'\r\n",
      "\r\n",
      "glove.6B.zip        100%[===================>] 822.24M  5.01MB/s    in 2m 39s  \r\n",
      "\r\n",
      "2024-10-12 17:24:32 (5.16 MB/s) - 'glove.6B.zip' saved [862182613/862182613]\r\n",
      "\r\n",
      "Archive:  glove.6B.zip\r\n",
      "  inflating: glove.6B.50d.txt        \r\n",
      "  inflating: glove.6B.100d.txt       \r\n",
      "  inflating: glove.6B.200d.txt       \r\n",
      "  inflating: glove.6B.300d.txt       \r\n"
     ]
    }
   ],
   "source": [
    "!wget http://nlp.stanford.edu/data/glove.6B.zip\n",
    "!unzip glove*.zip"
   ]
  },
  {
   "cell_type": "code",
   "execution_count": 18,
   "id": "b73dae89",
   "metadata": {
    "execution": {
     "iopub.execute_input": "2024-10-12T17:24:53.516488Z",
     "iopub.status.busy": "2024-10-12T17:24:53.515549Z",
     "iopub.status.idle": "2024-10-12T17:25:05.093026Z",
     "shell.execute_reply": "2024-10-12T17:25:05.092139Z"
    },
    "papermill": {
     "duration": 11.699363,
     "end_time": "2024-10-12T17:25:05.098601",
     "exception": false,
     "start_time": "2024-10-12T17:24:53.399238",
     "status": "completed"
    },
    "tags": []
   },
   "outputs": [],
   "source": [
    "glove_dict: dict = {}\n",
    "embedding_dimension = 100\n",
    "\n",
    "with open(f'/kaggle/working/glove.6B.{embedding_dimension}d.txt') as embedding_file:\n",
    "    for line in embedding_file.readlines():\n",
    "        records = line.split()\n",
    "        word = records[0]\n",
    "        glove_embedding = np.asarray(records[1:], dtype='float32')\n",
    "        glove_dict[word] = glove_embedding\n"
   ]
  },
  {
   "cell_type": "code",
   "execution_count": 19,
   "id": "165474cd",
   "metadata": {
    "execution": {
     "iopub.execute_input": "2024-10-12T17:25:05.250242Z",
     "iopub.status.busy": "2024-10-12T17:25:05.249855Z",
     "iopub.status.idle": "2024-10-12T17:25:05.255176Z",
     "shell.execute_reply": "2024-10-12T17:25:05.254356Z"
    },
    "papermill": {
     "duration": 0.083013,
     "end_time": "2024-10-12T17:25:05.257063",
     "exception": false,
     "start_time": "2024-10-12T17:25:05.174050",
     "status": "completed"
    },
    "tags": []
   },
   "outputs": [],
   "source": [
    "UNKNOWN_TOKEN = '<UNK>'\n",
    "def build_vocab(corpus: pd.Series):\n",
    "    vocab = {UNKNOWN_TOKEN: 0}\n",
    "    for sentence_tokens in corpus:\n",
    "        for word in sentence_tokens:\n",
    "            if word not in vocab:\n",
    "                vocab[word] = len(vocab)\n",
    "    return vocab"
   ]
  },
  {
   "cell_type": "code",
   "execution_count": 20,
   "id": "64115954",
   "metadata": {
    "execution": {
     "iopub.execute_input": "2024-10-12T17:25:05.407018Z",
     "iopub.status.busy": "2024-10-12T17:25:05.406656Z",
     "iopub.status.idle": "2024-10-12T17:25:05.413494Z",
     "shell.execute_reply": "2024-10-12T17:25:05.412623Z"
    },
    "papermill": {
     "duration": 0.084494,
     "end_time": "2024-10-12T17:25:05.415510",
     "exception": false,
     "start_time": "2024-10-12T17:25:05.331016",
     "status": "completed"
    },
    "tags": []
   },
   "outputs": [],
   "source": [
    "def create_embedding_matrix(vocab: dict[str:int], glove_dict: dict[str:np.array], embedding_dimension: int):\n",
    "    embedding_matrix = np.zeros((len(vocab), embedding_dimension))\n",
    "    for word, idx in vocab.items():\n",
    "        embedding_vector = glove_dict.get(word)\n",
    "        if embedding_vector is not None:\n",
    "            embedding_matrix[idx] = embedding_vector\n",
    "        else:\n",
    "            # Use a random vector for unknown words ~ drawing from standard normal distrubtion at each dimension\n",
    "            embedding_matrix[idx] = np.random.normal(loc=0.0, scale=1.0, size=(embedding_dimension,))\n",
    "    return torch.tensor(embedding_matrix, dtype=torch.float32)"
   ]
  },
  {
   "cell_type": "code",
   "execution_count": 21,
   "id": "e15c3d30",
   "metadata": {
    "execution": {
     "iopub.execute_input": "2024-10-12T17:25:05.566823Z",
     "iopub.status.busy": "2024-10-12T17:25:05.566069Z",
     "iopub.status.idle": "2024-10-12T17:25:05.678000Z",
     "shell.execute_reply": "2024-10-12T17:25:05.677165Z"
    },
    "papermill": {
     "duration": 0.190412,
     "end_time": "2024-10-12T17:25:05.680421",
     "exception": false,
     "start_time": "2024-10-12T17:25:05.490009",
     "status": "completed"
    },
    "tags": []
   },
   "outputs": [],
   "source": [
    "VOCAB = build_vocab(total_df['cleaned_text'])\n",
    "\n",
    "EMBEDDING_MATRIX = create_embedding_matrix(VOCAB, glove_dict, embedding_dimension)"
   ]
  },
  {
   "cell_type": "markdown",
   "id": "c313fa22",
   "metadata": {
    "papermill": {
     "duration": 0.07399,
     "end_time": "2024-10-12T17:25:05.832643",
     "exception": false,
     "start_time": "2024-10-12T17:25:05.758653",
     "status": "completed"
    },
    "tags": []
   },
   "source": [
    "## Abstracting data with Pytorch Dataset & DataLoader\n",
    "\n",
    "    - Subclassing Pytorch's Dataset and passing to DataLoader allows for easy neural network operations\n",
    "    - Subclassing the Dataset Class in this case means I can get the required indices for network input(discussed above under 'Embeddings Section'). I can also transform the inference text at runtime by passing a transform function\n",
    "    - The DataLoader allows easy batching for training or inference. \n",
    "    - The DataLoader offers several optimizations like pinning paged memory for batches, prefetching batches during forward pass, persistent processes, and distributed work with num_workers\n",
    "    - NOTE: The collate_fn of DataLoader is necessary for batching this NLP task. The batch input needs a matching length dimension for matrix operations so the collate_fn is used for padding the batch texts here"
   ]
  },
  {
   "cell_type": "code",
   "execution_count": 22,
   "id": "4af070f1",
   "metadata": {
    "execution": {
     "iopub.execute_input": "2024-10-12T17:25:05.982560Z",
     "iopub.status.busy": "2024-10-12T17:25:05.982189Z",
     "iopub.status.idle": "2024-10-12T17:25:05.991109Z",
     "shell.execute_reply": "2024-10-12T17:25:05.990252Z"
    },
    "papermill": {
     "duration": 0.086017,
     "end_time": "2024-10-12T17:25:05.993013",
     "exception": false,
     "start_time": "2024-10-12T17:25:05.906996",
     "status": "completed"
    },
    "tags": []
   },
   "outputs": [],
   "source": [
    "import torch\n",
    "from torch.utils.data import Dataset\n",
    "\n",
    "class TextDataset(Dataset):\n",
    "    def __init__(self, df: pd.DataFrame, vocab: dict[str:int], unknown_token: str, text_col: str, target_col: str = None, transform=None):\n",
    "        self.df = df\n",
    "        self.vocab = vocab\n",
    "        self.unknown_token = unknown_token\n",
    "        self.text_col = text_col\n",
    "        self.target_col = target_col\n",
    "        self.transform = transform\n",
    "\n",
    "    def __len__(self):\n",
    "        return len(self.df)\n",
    "\n",
    "    def __getitem__(self, idx):\n",
    "        tokens = self.df.iloc[idx][self.text_col]\n",
    "        target = self.df.iloc[idx][self.target_col]\n",
    "        if self.transform:\n",
    "            tokens = self.transform(tokens)\n",
    "            \n",
    "        indices = [self.vocab.get(token, self.vocab.get(self.unknown_token)) for token in tokens]\n",
    "            \n",
    "        return torch.tensor(indices, dtype=torch.long), torch.tensor(target, dtype=torch.float32)"
   ]
  },
  {
   "cell_type": "code",
   "execution_count": 23,
   "id": "40348a00",
   "metadata": {
    "execution": {
     "iopub.execute_input": "2024-10-12T17:25:06.142654Z",
     "iopub.status.busy": "2024-10-12T17:25:06.142258Z",
     "iopub.status.idle": "2024-10-12T17:25:06.157138Z",
     "shell.execute_reply": "2024-10-12T17:25:06.155992Z"
    },
    "papermill": {
     "duration": 0.092148,
     "end_time": "2024-10-12T17:25:06.159045",
     "exception": false,
     "start_time": "2024-10-12T17:25:06.066897",
     "status": "completed"
    },
    "tags": []
   },
   "outputs": [
    {
     "name": "stdout",
     "output_type": "stream",
     "text": [
      "NUM TRAINING SAMPLES: 6851\n",
      "NUM VALIDATION SAMPLES: 762\n"
     ]
    }
   ],
   "source": [
    "from sklearn.model_selection import train_test_split\n",
    "\n",
    "subset_train_df = total_df[['cleaned_text', 'target']]\n",
    "train_df, val_df = train_test_split(subset_train_df, test_size=0.1, random_state=11)\n",
    "\n",
    "train_df.head(5)\n",
    "\n",
    "print(f\"NUM TRAINING SAMPLES: {len(train_df)}\\nNUM VALIDATION SAMPLES: {len(val_df)}\")"
   ]
  },
  {
   "cell_type": "code",
   "execution_count": 24,
   "id": "685b44cc",
   "metadata": {
    "execution": {
     "iopub.execute_input": "2024-10-12T17:25:06.310559Z",
     "iopub.status.busy": "2024-10-12T17:25:06.309747Z",
     "iopub.status.idle": "2024-10-12T17:25:06.315464Z",
     "shell.execute_reply": "2024-10-12T17:25:06.314543Z"
    },
    "papermill": {
     "duration": 0.083456,
     "end_time": "2024-10-12T17:25:06.317326",
     "exception": false,
     "start_time": "2024-10-12T17:25:06.233870",
     "status": "completed"
    },
    "tags": []
   },
   "outputs": [],
   "source": [
    "from torch.nn.utils.rnn import pad_sequence\n",
    "from torch.utils.data import DataLoader\n",
    "\n",
    "def collate_fn(batch):\n",
    "    sentences, labels = zip(*batch)\n",
    "    padded_batch = pad_sequence(sentences, batch_first=True, padding_value=0)\n",
    "    labels = torch.tensor(labels)\n",
    "    return padded_batch, labels"
   ]
  },
  {
   "cell_type": "code",
   "execution_count": 25,
   "id": "a52256a3",
   "metadata": {
    "execution": {
     "iopub.execute_input": "2024-10-12T17:25:06.468179Z",
     "iopub.status.busy": "2024-10-12T17:25:06.467803Z",
     "iopub.status.idle": "2024-10-12T17:25:06.474726Z",
     "shell.execute_reply": "2024-10-12T17:25:06.473875Z"
    },
    "papermill": {
     "duration": 0.084735,
     "end_time": "2024-10-12T17:25:06.476630",
     "exception": false,
     "start_time": "2024-10-12T17:25:06.391895",
     "status": "completed"
    },
    "tags": []
   },
   "outputs": [],
   "source": [
    "train_ds = TextDataset(df=train_df, vocab=VOCAB, unknown_token=UNKNOWN_TOKEN, text_col='cleaned_text', target_col='target')\n",
    "val_ds = TextDataset(df=val_df, vocab=VOCAB, unknown_token=UNKNOWN_TOKEN, text_col='cleaned_text', target_col='target')\n",
    "\n",
    "train_loader = DataLoader(train_ds, batch_size=32, shuffle=True, collate_fn=collate_fn,\n",
    "                          num_workers=4, pin_memory=True, persistent_workers=True, prefetch_factor=2)\n",
    "val_loader = DataLoader(val_ds, batch_size=32, collate_fn=collate_fn,\n",
    "                       num_workers=4, pin_memory=True, persistent_workers=True, prefetch_factor=2)"
   ]
  },
  {
   "cell_type": "markdown",
   "id": "108330a8",
   "metadata": {
    "papermill": {
     "duration": 0.073738,
     "end_time": "2024-10-12T17:25:06.625361",
     "exception": false,
     "start_time": "2024-10-12T17:25:06.551623",
     "status": "completed"
    },
    "tags": []
   },
   "source": [
    "## Bidirectional LSTM\n",
    "    \n",
    "    - An LSTM is perfect for this NLP task because its recurrent structure allows for vairbale input length. I.e. sentences can have varying token length and the model architecture can still classify each.\n",
    "    - Bidirectional allows 2 different sets of states to be retained as the input is processed in both directions simultaneously. This aspect of the architecture provides a more robust model, especially for a classfication task.\n",
    "    - The GloVe embedding matrix will be finetuned based on my vocabulary, which research has shown to be very successful in NLP tasks.\n",
    "    - After the LSTM forward pass, the bidirectional results are combined and batch normalized before going to a fully connected neural network.\n",
    "    - Batch Norm allows faster convergence because weight updates aren't too large and creates a more robust model because inputs to downstream layers will all be from the standard normal distribution.\n",
    "    - The fully connected layers utilize ReLU for non-linearity, a crucial part of the universal approximation theorem that makes neural networks so popular. \n",
    "    - Finally, a sigmoid function is applied to get an ouptut in (0, 1) interval. \n",
    "    - NOTE: A threshold of .5 will be used for classification because I have addressed class imbalance with the loss function postive weight(discussed under 'Response Distribution' Section)."
   ]
  },
  {
   "cell_type": "code",
   "execution_count": 26,
   "id": "97db362a",
   "metadata": {
    "execution": {
     "iopub.execute_input": "2024-10-12T17:25:06.777308Z",
     "iopub.status.busy": "2024-10-12T17:25:06.776921Z",
     "iopub.status.idle": "2024-10-12T17:25:06.790234Z",
     "shell.execute_reply": "2024-10-12T17:25:06.789308Z"
    },
    "papermill": {
     "duration": 0.091144,
     "end_time": "2024-10-12T17:25:06.792177",
     "exception": false,
     "start_time": "2024-10-12T17:25:06.701033",
     "status": "completed"
    },
    "tags": []
   },
   "outputs": [],
   "source": [
    "import torch\n",
    "import torch.nn as nn\n",
    "\n",
    "class BiLSTMClassifier(nn.Module):\n",
    "    def __init__(self, embedding_matrix, hidden_size, num_layers, dropout=0.3):\n",
    "        super(BiLSTMClassifier, self).__init__()\n",
    "        vocab_size, embedding_dim = embedding_matrix.shape\n",
    "        self.embedding = nn.Embedding(vocab_size, embedding_dim)\n",
    "        self.embedding.weight = nn.Parameter(embedding_matrix)\n",
    "        \n",
    "        self.hidden_size = hidden_size\n",
    "        self.num_layers = num_layers\n",
    "        self.lstm = nn.LSTM(embedding_dim, hidden_size, num_layers, bidirectional=True, batch_first=True)\n",
    "        \n",
    "        self.batch_norm1 = nn.BatchNorm1d(hidden_size * 2)\n",
    "        self.fc = nn.Linear(hidden_size * 2, 25)\n",
    "        self.dropout = nn.Dropout(dropout)\n",
    "        self.relu = nn.ReLU()\n",
    "        self.batch_norm2 = nn.BatchNorm1d(25)\n",
    "        \n",
    "        self.fc2 = nn.Linear(25, 10)\n",
    "        self.batch_norm3 = nn.BatchNorm1d(10)\n",
    "        self.fc3 = nn.Linear(10, 1)\n",
    "        self.sigmoid = nn.Sigmoid()\n",
    "        \n",
    "    def forward(self, x):\n",
    "        x = self.embedding(x)\n",
    "        \n",
    "        h0 = torch.zeros(self.num_layers * 2, x.size(0), self.hidden_size).to(x.device)\n",
    "        c0 = torch.zeros(self.num_layers * 2, x.size(0), self.hidden_size).to(x.device)\n",
    "        out, _ = self.lstm(x, (h0, c0))\n",
    "        out = out[:, -1, :]\n",
    "        \n",
    "        out = self.batch_norm1(out)\n",
    "        out = self.relu(self.fc(out))\n",
    "        out = self.dropout(out)\n",
    "        \n",
    "        out = self.batch_norm2(out)\n",
    "        out = self.relu(self.fc2(out))\n",
    "        out = self.batch_norm3(out)\n",
    "        \n",
    "        out = self.sigmoid(self.fc3(out))\n",
    "        return out\n"
   ]
  },
  {
   "cell_type": "code",
   "execution_count": 27,
   "id": "9fed7319",
   "metadata": {
    "execution": {
     "iopub.execute_input": "2024-10-12T17:25:06.950977Z",
     "iopub.status.busy": "2024-10-12T17:25:06.950323Z",
     "iopub.status.idle": "2024-10-12T17:25:07.015834Z",
     "shell.execute_reply": "2024-10-12T17:25:07.014841Z"
    },
    "papermill": {
     "duration": 0.146881,
     "end_time": "2024-10-12T17:25:07.017739",
     "exception": false,
     "start_time": "2024-10-12T17:25:06.870858",
     "status": "completed"
    },
    "tags": []
   },
   "outputs": [
    {
     "name": "stdout",
     "output_type": "stream",
     "text": [
      "Using device: cuda\n"
     ]
    }
   ],
   "source": [
    "device = torch.device(\"cuda\" if torch.cuda.is_available() else \"cpu\")\n",
    "print(f\"Using device: {device}\")"
   ]
  },
  {
   "cell_type": "code",
   "execution_count": 28,
   "id": "f806dcdc",
   "metadata": {
    "execution": {
     "iopub.execute_input": "2024-10-12T17:25:07.177108Z",
     "iopub.status.busy": "2024-10-12T17:25:07.176690Z",
     "iopub.status.idle": "2024-10-12T17:25:07.182796Z",
     "shell.execute_reply": "2024-10-12T17:25:07.181928Z"
    },
    "papermill": {
     "duration": 0.088181,
     "end_time": "2024-10-12T17:25:07.184745",
     "exception": false,
     "start_time": "2024-10-12T17:25:07.096564",
     "status": "completed"
    },
    "tags": []
   },
   "outputs": [],
   "source": [
    "class WeightedBCELoss(nn.Module):\n",
    "    def __init__(self, pos_weight):\n",
    "        super(WeightedBCELoss, self).__init__()\n",
    "        self.pos_weight = pos_weight\n",
    "    \n",
    "    def forward(self, output, target):\n",
    "        loss = - self.pos_weight * target * torch.log(output) - (1 - target) * torch.log(1 - output)\n",
    "        return loss.mean()"
   ]
  },
  {
   "cell_type": "code",
   "execution_count": 29,
   "id": "31896525",
   "metadata": {
    "execution": {
     "iopub.execute_input": "2024-10-12T17:25:07.344060Z",
     "iopub.status.busy": "2024-10-12T17:25:07.343397Z",
     "iopub.status.idle": "2024-10-12T17:25:07.348404Z",
     "shell.execute_reply": "2024-10-12T17:25:07.347526Z"
    },
    "papermill": {
     "duration": 0.088451,
     "end_time": "2024-10-12T17:25:07.350280",
     "exception": false,
     "start_time": "2024-10-12T17:25:07.261829",
     "status": "completed"
    },
    "tags": []
   },
   "outputs": [],
   "source": [
    "import torch.optim as optim\n",
    "\n",
    "epochs = 10\n",
    "learning_rate = .0005\n",
    "criterion = WeightedBCELoss(POS_WEIGHT)"
   ]
  },
  {
   "cell_type": "code",
   "execution_count": 30,
   "id": "ef29ba8f",
   "metadata": {
    "execution": {
     "iopub.execute_input": "2024-10-12T17:25:07.511869Z",
     "iopub.status.busy": "2024-10-12T17:25:07.511490Z",
     "iopub.status.idle": "2024-10-12T17:25:07.516016Z",
     "shell.execute_reply": "2024-10-12T17:25:07.515105Z"
    },
    "papermill": {
     "duration": 0.087151,
     "end_time": "2024-10-12T17:25:07.517987",
     "exception": false,
     "start_time": "2024-10-12T17:25:07.430836",
     "status": "completed"
    },
    "tags": []
   },
   "outputs": [],
   "source": [
    "from tqdm import tqdm"
   ]
  },
  {
   "cell_type": "code",
   "execution_count": 31,
   "id": "2315f52b",
   "metadata": {
    "execution": {
     "iopub.execute_input": "2024-10-12T17:25:07.670953Z",
     "iopub.status.busy": "2024-10-12T17:25:07.670077Z",
     "iopub.status.idle": "2024-10-12T17:25:07.674483Z",
     "shell.execute_reply": "2024-10-12T17:25:07.673625Z"
    },
    "papermill": {
     "duration": 0.083191,
     "end_time": "2024-10-12T17:25:07.676398",
     "exception": false,
     "start_time": "2024-10-12T17:25:07.593207",
     "status": "completed"
    },
    "tags": []
   },
   "outputs": [],
   "source": [
    "delta = .0075\n",
    "patience = 4\n",
    "best_val_acc = 0"
   ]
  },
  {
   "cell_type": "markdown",
   "id": "3a26fcc9",
   "metadata": {
    "papermill": {
     "duration": 0.073936,
     "end_time": "2024-10-12T17:25:07.824478",
     "exception": false,
     "start_time": "2024-10-12T17:25:07.750542",
     "status": "completed"
    },
    "tags": []
   },
   "source": [
    "## Training Function\n",
    "\n",
    "    - Use SGD w/ Adam to update weights over several epochs of training\n",
    "    - Utilize early stopping against a validation dataset to monitor generalization capabilities and stop training after signs of overfitting\n",
    "    - Save the model's weights after epoch if it has performed the best. Best meaning validation set accuracy is the highest seen across epochs.\n",
    "    - The model's weights are updated in place, so only the best validation accuracy needs to be returned for reporting"
   ]
  },
  {
   "cell_type": "code",
   "execution_count": 32,
   "id": "c375a1a4",
   "metadata": {
    "execution": {
     "iopub.execute_input": "2024-10-12T17:25:07.977024Z",
     "iopub.status.busy": "2024-10-12T17:25:07.976107Z",
     "iopub.status.idle": "2024-10-12T17:25:07.990111Z",
     "shell.execute_reply": "2024-10-12T17:25:07.989385Z"
    },
    "papermill": {
     "duration": 0.091963,
     "end_time": "2024-10-12T17:25:07.992080",
     "exception": false,
     "start_time": "2024-10-12T17:25:07.900117",
     "status": "completed"
    },
    "tags": []
   },
   "outputs": [],
   "source": [
    "def trainer_run(model: nn.Module, optimizer, train_loader: DataLoader, val_loader: DataLoader, device, epochs: int=10) -> float:\n",
    "    train_accuracies, train_losses, val_accuracies, val_losses = [], [], [], []\n",
    "    best_val_acc = 0.0\n",
    "    for epoch in range(epochs):\n",
    "        model.train()\n",
    "    \n",
    "        train_loss = 0.0\n",
    "        train_correct = 0\n",
    "        train_total = 0\n",
    "    \n",
    "        train_loader = tqdm(train_loader, desc=f\"Epoch {epoch+1}/{epochs}\", leave=False)\n",
    "    \n",
    "        for idxs, labels in train_loader:\n",
    "            idxs, labels = idxs.to(device), labels.to(device).unsqueeze(1)\n",
    "        \n",
    "            optimizer.zero_grad()\n",
    "            outputs = model(idxs)\n",
    "        \n",
    "            loss = criterion(outputs, labels)\n",
    "            loss.backward()\n",
    "            optimizer.step()\n",
    "        \n",
    "            predicted = (outputs > 0.5).float()\n",
    "            train_total += labels.size(0)\n",
    "            train_correct += (predicted == labels).sum().item()\n",
    "            train_loss += loss.item()\n",
    "            train_loader.set_postfix(loss=train_loss/len(train_loader))\n",
    "        \n",
    "        train_loss /= len(train_loader)\n",
    "        train_acc = train_correct / train_total\n",
    "        train_losses.append(train_loss)\n",
    "        train_accuracies.append(train_acc)\n",
    "    \n",
    "        model.eval()\n",
    "    \n",
    "        val_loss = 0.0\n",
    "        val_correct = 0\n",
    "        val_total = 0\n",
    "        with torch.no_grad():\n",
    "            for idxs, labels in val_loader:\n",
    "                idxs, labels = idxs.to(device), labels.to(device).unsqueeze(1)\n",
    "                outputs = model(idxs)\n",
    "                loss = criterion(outputs, labels)\n",
    "                val_loss += loss.item()\n",
    "            \n",
    "                predicted = (outputs > 0.5).float()\n",
    "                val_total += labels.size(0)\n",
    "                val_correct += (predicted == labels).sum().item()\n",
    "    \n",
    "        val_loss /= len(val_loader)\n",
    "        val_acc = val_correct / val_total\n",
    "        val_losses.append(val_loss)\n",
    "        val_accuracies.append(val_acc)\n",
    "        print(f\"Epoch {epoch+1}/{epochs}, Training Loss: {train_loss:.4f}, Training Accuracy: {train_acc:.4f}, Validation Loss: {val_loss:.4f}, Validation Accuracy: {val_acc:.4f}\")\n",
    "    \n",
    "        if (val_acc - best_val_acc) <= delta and (patience):\n",
    "            break\n",
    "        elif val_acc > best_val_acc:\n",
    "            best_val_acc = val_acc\n",
    "            torch.save(model.state_dict(), '/kaggle/working/current_lstm_model.pth')\n",
    "            \n",
    "    return best_val_acc"
   ]
  },
  {
   "cell_type": "markdown",
   "id": "5bed7a4c",
   "metadata": {
    "papermill": {
     "duration": 0.076,
     "end_time": "2024-10-12T17:25:08.144828",
     "exception": false,
     "start_time": "2024-10-12T17:25:08.068828",
     "status": "completed"
    },
    "tags": []
   },
   "source": [
    "## Hyperparameter Grid Search\n",
    "\n",
    "    - This is a fairly dated hyperparameter tuning method compared to bayesian tuning or frameworks like RayTune, but it still allows comparing across hyperparameter sets on limited available compute.\n",
    "    - Combinations of hidden_size (the latent dimension of the LSTM internal states), number of layers in each direction of LSTM, and dropout rates are used to train. The best validation accuracy is maintained and used to keep track of the corresponding model hyperparameters\n",
    "    - NOTE: embedding_dict is a dictionary and used to initialize the weights of the embedding layer in the model. I beleive this may update the matrix in place so I have created a new embedding matrix for each model during the search loop"
   ]
  },
  {
   "cell_type": "code",
   "execution_count": 33,
   "id": "b7e7b9d3",
   "metadata": {
    "execution": {
     "iopub.execute_input": "2024-10-12T17:25:08.302633Z",
     "iopub.status.busy": "2024-10-12T17:25:08.301852Z",
     "iopub.status.idle": "2024-10-12T17:28:32.701418Z",
     "shell.execute_reply": "2024-10-12T17:28:32.700096Z"
    },
    "papermill": {
     "duration": 204.480343,
     "end_time": "2024-10-12T17:28:32.704665",
     "exception": false,
     "start_time": "2024-10-12T17:25:08.224322",
     "status": "completed"
    },
    "tags": []
   },
   "outputs": [
    {
     "name": "stdout",
     "output_type": "stream",
     "text": [
      "----- Training w/ hidden_sz: 32, num_layer: 2, d_r: 0.2 -----\n"
     ]
    },
    {
     "name": "stderr",
     "output_type": "stream",
     "text": [
      "                                                                          \r"
     ]
    },
    {
     "name": "stdout",
     "output_type": "stream",
     "text": [
      "Epoch 1/10, Training Loss: 0.7489, Training Accuracy: 0.6062, Validation Loss: 0.6750, Validation Accuracy: 0.6903\n"
     ]
    },
    {
     "name": "stderr",
     "output_type": "stream",
     "text": [
      "                                                                          \r"
     ]
    },
    {
     "name": "stdout",
     "output_type": "stream",
     "text": [
      "Epoch 2/10, Training Loss: 0.6186, Training Accuracy: 0.7371, Validation Loss: 0.6101, Validation Accuracy: 0.7310\n"
     ]
    },
    {
     "name": "stderr",
     "output_type": "stream",
     "text": [
      "                                                                          \r"
     ]
    },
    {
     "name": "stdout",
     "output_type": "stream",
     "text": [
      "Epoch 3/10, Training Loss: 0.5383, Training Accuracy: 0.7980, Validation Loss: 0.5686, Validation Accuracy: 0.7848\n"
     ]
    },
    {
     "name": "stderr",
     "output_type": "stream",
     "text": [
      "                                                                          \r"
     ]
    },
    {
     "name": "stdout",
     "output_type": "stream",
     "text": [
      "Epoch 4/10, Training Loss: 0.4849, Training Accuracy: 0.8285, Validation Loss: 0.5651, Validation Accuracy: 0.7677\n",
      "\n",
      "\n",
      "\n",
      "\n",
      "----- Training w/ hidden_sz: 32, num_layer: 2, d_r: 0.3 -----\n"
     ]
    },
    {
     "name": "stderr",
     "output_type": "stream",
     "text": [
      "                                                                          \r"
     ]
    },
    {
     "name": "stdout",
     "output_type": "stream",
     "text": [
      "Epoch 1/10, Training Loss: 0.7728, Training Accuracy: 0.5751, Validation Loss: 0.7133, Validation Accuracy: 0.6942\n"
     ]
    },
    {
     "name": "stderr",
     "output_type": "stream",
     "text": [
      "                                                                          \r"
     ]
    },
    {
     "name": "stdout",
     "output_type": "stream",
     "text": [
      "Epoch 2/10, Training Loss: 0.6524, Training Accuracy: 0.7190, Validation Loss: 0.6101, Validation Accuracy: 0.7651\n"
     ]
    },
    {
     "name": "stderr",
     "output_type": "stream",
     "text": [
      "                                                                          \r"
     ]
    },
    {
     "name": "stdout",
     "output_type": "stream",
     "text": [
      "Epoch 3/10, Training Loss: 0.5646, Training Accuracy: 0.7878, Validation Loss: 0.6074, Validation Accuracy: 0.7795\n"
     ]
    },
    {
     "name": "stderr",
     "output_type": "stream",
     "text": [
      "                                                                         \r"
     ]
    },
    {
     "name": "stdout",
     "output_type": "stream",
     "text": [
      "Epoch 4/10, Training Loss: 0.5019, Training Accuracy: 0.8240, Validation Loss: 0.5984, Validation Accuracy: 0.7717\n",
      "\n",
      "\n",
      "\n",
      "\n",
      "----- Training w/ hidden_sz: 32, num_layer: 3, d_r: 0.2 -----\n"
     ]
    },
    {
     "name": "stderr",
     "output_type": "stream",
     "text": [
      "                                                                         \r"
     ]
    },
    {
     "name": "stdout",
     "output_type": "stream",
     "text": [
      "Epoch 1/10, Training Loss: 0.7365, Training Accuracy: 0.5888, Validation Loss: 0.6801, Validation Accuracy: 0.6220\n"
     ]
    },
    {
     "name": "stderr",
     "output_type": "stream",
     "text": [
      "                                                                         \r"
     ]
    },
    {
     "name": "stdout",
     "output_type": "stream",
     "text": [
      "Epoch 2/10, Training Loss: 0.5982, Training Accuracy: 0.7484, Validation Loss: 0.5829, Validation Accuracy: 0.7454\n"
     ]
    },
    {
     "name": "stderr",
     "output_type": "stream",
     "text": [
      "                                                                          \r"
     ]
    },
    {
     "name": "stdout",
     "output_type": "stream",
     "text": [
      "Epoch 3/10, Training Loss: 0.5190, Training Accuracy: 0.8035, Validation Loss: 0.6220, Validation Accuracy: 0.7612\n"
     ]
    },
    {
     "name": "stderr",
     "output_type": "stream",
     "text": [
      "                                                                         \r"
     ]
    },
    {
     "name": "stdout",
     "output_type": "stream",
     "text": [
      "Epoch 4/10, Training Loss: 0.4565, Training Accuracy: 0.8355, Validation Loss: 0.5476, Validation Accuracy: 0.7730\n"
     ]
    },
    {
     "name": "stderr",
     "output_type": "stream",
     "text": [
      "                                                                          \r"
     ]
    },
    {
     "name": "stdout",
     "output_type": "stream",
     "text": [
      "Epoch 5/10, Training Loss: 0.4012, Training Accuracy: 0.8656, Validation Loss: 0.5661, Validation Accuracy: 0.7638\n",
      "\n",
      "\n",
      "\n",
      "\n",
      "----- Training w/ hidden_sz: 32, num_layer: 3, d_r: 0.3 -----\n"
     ]
    },
    {
     "name": "stderr",
     "output_type": "stream",
     "text": [
      "                                                                         \r"
     ]
    },
    {
     "name": "stdout",
     "output_type": "stream",
     "text": [
      "Epoch 1/10, Training Loss: 0.7290, Training Accuracy: 0.6380, Validation Loss: 0.6348, Validation Accuracy: 0.7375\n"
     ]
    },
    {
     "name": "stderr",
     "output_type": "stream",
     "text": [
      "                                                                          \r"
     ]
    },
    {
     "name": "stdout",
     "output_type": "stream",
     "text": [
      "Epoch 2/10, Training Loss: 0.5881, Training Accuracy: 0.7616, Validation Loss: 0.6184, Validation Accuracy: 0.6864\n",
      "\n",
      "\n",
      "\n",
      "\n",
      "----- Training w/ hidden_sz: 32, num_layer: 4, d_r: 0.2 -----\n"
     ]
    },
    {
     "name": "stderr",
     "output_type": "stream",
     "text": [
      "                                                                         \r"
     ]
    },
    {
     "name": "stdout",
     "output_type": "stream",
     "text": [
      "Epoch 1/10, Training Loss: 0.7251, Training Accuracy: 0.5998, Validation Loss: 0.6248, Validation Accuracy: 0.7205\n"
     ]
    },
    {
     "name": "stderr",
     "output_type": "stream",
     "text": [
      "                                                                         \r"
     ]
    },
    {
     "name": "stdout",
     "output_type": "stream",
     "text": [
      "Epoch 2/10, Training Loss: 0.5816, Training Accuracy: 0.7564, Validation Loss: 0.5681, Validation Accuracy: 0.7585\n"
     ]
    },
    {
     "name": "stderr",
     "output_type": "stream",
     "text": [
      "                                                                         \r"
     ]
    },
    {
     "name": "stdout",
     "output_type": "stream",
     "text": [
      "Epoch 3/10, Training Loss: 0.5058, Training Accuracy: 0.8111, Validation Loss: 0.5326, Validation Accuracy: 0.7992\n"
     ]
    },
    {
     "name": "stderr",
     "output_type": "stream",
     "text": [
      "                                                                         \r"
     ]
    },
    {
     "name": "stdout",
     "output_type": "stream",
     "text": [
      "Epoch 4/10, Training Loss: 0.4484, Training Accuracy: 0.8424, Validation Loss: 0.6430, Validation Accuracy: 0.6824\n",
      "\n",
      "\n",
      "\n",
      "\n",
      "----- Training w/ hidden_sz: 32, num_layer: 4, d_r: 0.3 -----\n"
     ]
    },
    {
     "name": "stderr",
     "output_type": "stream",
     "text": [
      "                                                                         \r"
     ]
    },
    {
     "name": "stdout",
     "output_type": "stream",
     "text": [
      "Epoch 1/10, Training Loss: 0.7377, Training Accuracy: 0.6009, Validation Loss: 0.6521, Validation Accuracy: 0.7165\n"
     ]
    },
    {
     "name": "stderr",
     "output_type": "stream",
     "text": [
      "                                                                         \r"
     ]
    },
    {
     "name": "stdout",
     "output_type": "stream",
     "text": [
      "Epoch 2/10, Training Loss: 0.5923, Training Accuracy: 0.7630, Validation Loss: 0.5639, Validation Accuracy: 0.7730\n"
     ]
    },
    {
     "name": "stderr",
     "output_type": "stream",
     "text": [
      "                                                                         \r"
     ]
    },
    {
     "name": "stdout",
     "output_type": "stream",
     "text": [
      "Epoch 3/10, Training Loss: 0.5189, Training Accuracy: 0.8133, Validation Loss: 0.6396, Validation Accuracy: 0.6772\n",
      "\n",
      "\n",
      "\n",
      "\n",
      "----- Training w/ hidden_sz: 32, num_layer: 5, d_r: 0.2 -----\n"
     ]
    },
    {
     "name": "stderr",
     "output_type": "stream",
     "text": [
      "                                                                         \r"
     ]
    },
    {
     "name": "stdout",
     "output_type": "stream",
     "text": [
      "Epoch 1/10, Training Loss: 0.7174, Training Accuracy: 0.6570, Validation Loss: 0.6692, Validation Accuracy: 0.6824\n"
     ]
    },
    {
     "name": "stderr",
     "output_type": "stream",
     "text": [
      "                                                                         \r"
     ]
    },
    {
     "name": "stdout",
     "output_type": "stream",
     "text": [
      "Epoch 2/10, Training Loss: 0.5694, Training Accuracy: 0.7770, Validation Loss: 0.5350, Validation Accuracy: 0.7913\n"
     ]
    },
    {
     "name": "stderr",
     "output_type": "stream",
     "text": [
      "                                                                         \r"
     ]
    },
    {
     "name": "stdout",
     "output_type": "stream",
     "text": [
      "Epoch 3/10, Training Loss: 0.5045, Training Accuracy: 0.8110, Validation Loss: 0.5325, Validation Accuracy: 0.7861\n",
      "\n",
      "\n",
      "\n",
      "\n",
      "----- Training w/ hidden_sz: 32, num_layer: 5, d_r: 0.3 -----\n"
     ]
    },
    {
     "name": "stderr",
     "output_type": "stream",
     "text": [
      "                                                                         \r"
     ]
    },
    {
     "name": "stdout",
     "output_type": "stream",
     "text": [
      "Epoch 1/10, Training Loss: 0.7617, Training Accuracy: 0.6139, Validation Loss: 0.6673, Validation Accuracy: 0.6942\n"
     ]
    },
    {
     "name": "stderr",
     "output_type": "stream",
     "text": [
      "                                                                         \r"
     ]
    },
    {
     "name": "stdout",
     "output_type": "stream",
     "text": [
      "Epoch 2/10, Training Loss: 0.6306, Training Accuracy: 0.7338, Validation Loss: 0.7437, Validation Accuracy: 0.5958\n",
      "\n",
      "\n",
      "\n",
      "\n",
      "----- Training w/ hidden_sz: 64, num_layer: 2, d_r: 0.2 -----\n"
     ]
    },
    {
     "name": "stderr",
     "output_type": "stream",
     "text": [
      "                                                                          \r"
     ]
    },
    {
     "name": "stdout",
     "output_type": "stream",
     "text": [
      "Epoch 1/10, Training Loss: 0.7409, Training Accuracy: 0.6358, Validation Loss: 0.6464, Validation Accuracy: 0.7218\n"
     ]
    },
    {
     "name": "stderr",
     "output_type": "stream",
     "text": [
      "                                                                        \r"
     ]
    },
    {
     "name": "stdout",
     "output_type": "stream",
     "text": [
      "Epoch 2/10, Training Loss: 0.5998, Training Accuracy: 0.7619, Validation Loss: 0.6268, Validation Accuracy: 0.7047\n",
      "\n",
      "\n",
      "\n",
      "\n",
      "----- Training w/ hidden_sz: 64, num_layer: 2, d_r: 0.3 -----\n"
     ]
    },
    {
     "name": "stderr",
     "output_type": "stream",
     "text": [
      "                                                                          \r"
     ]
    },
    {
     "name": "stdout",
     "output_type": "stream",
     "text": [
      "Epoch 1/10, Training Loss: 0.7506, Training Accuracy: 0.6288, Validation Loss: 0.6578, Validation Accuracy: 0.7283\n"
     ]
    },
    {
     "name": "stderr",
     "output_type": "stream",
     "text": [
      "                                                                          \r"
     ]
    },
    {
     "name": "stdout",
     "output_type": "stream",
     "text": [
      "Epoch 2/10, Training Loss: 0.6062, Training Accuracy: 0.7542, Validation Loss: 0.5848, Validation Accuracy: 0.7848\n"
     ]
    },
    {
     "name": "stderr",
     "output_type": "stream",
     "text": [
      "                                                                         \r"
     ]
    },
    {
     "name": "stdout",
     "output_type": "stream",
     "text": [
      "Epoch 3/10, Training Loss: 0.5300, Training Accuracy: 0.7993, Validation Loss: 0.5669, Validation Accuracy: 0.7677\n",
      "\n",
      "\n",
      "\n",
      "\n",
      "----- Training w/ hidden_sz: 64, num_layer: 3, d_r: 0.2 -----\n"
     ]
    },
    {
     "name": "stderr",
     "output_type": "stream",
     "text": [
      "                                                                         \r"
     ]
    },
    {
     "name": "stdout",
     "output_type": "stream",
     "text": [
      "Epoch 1/10, Training Loss: 0.7063, Training Accuracy: 0.6456, Validation Loss: 0.5901, Validation Accuracy: 0.7520\n"
     ]
    },
    {
     "name": "stderr",
     "output_type": "stream",
     "text": [
      "                                                                         \r"
     ]
    },
    {
     "name": "stdout",
     "output_type": "stream",
     "text": [
      "Epoch 2/10, Training Loss: 0.5729, Training Accuracy: 0.7733, Validation Loss: 0.5538, Validation Accuracy: 0.7874\n"
     ]
    },
    {
     "name": "stderr",
     "output_type": "stream",
     "text": [
      "                                                                         \r"
     ]
    },
    {
     "name": "stdout",
     "output_type": "stream",
     "text": [
      "Epoch 3/10, Training Loss: 0.5017, Training Accuracy: 0.8145, Validation Loss: 0.5368, Validation Accuracy: 0.7782\n",
      "\n",
      "\n",
      "\n",
      "\n",
      "----- Training w/ hidden_sz: 64, num_layer: 3, d_r: 0.3 -----\n"
     ]
    },
    {
     "name": "stderr",
     "output_type": "stream",
     "text": [
      "                                                                         \r"
     ]
    },
    {
     "name": "stdout",
     "output_type": "stream",
     "text": [
      "Epoch 1/10, Training Loss: 0.7045, Training Accuracy: 0.6817, Validation Loss: 0.6037, Validation Accuracy: 0.7612\n"
     ]
    },
    {
     "name": "stderr",
     "output_type": "stream",
     "text": [
      "                                                                         \r"
     ]
    },
    {
     "name": "stdout",
     "output_type": "stream",
     "text": [
      "Epoch 2/10, Training Loss: 0.5667, Training Accuracy: 0.7865, Validation Loss: 0.6156, Validation Accuracy: 0.7060\n",
      "\n",
      "\n",
      "\n",
      "\n",
      "----- Training w/ hidden_sz: 64, num_layer: 4, d_r: 0.2 -----\n"
     ]
    },
    {
     "name": "stderr",
     "output_type": "stream",
     "text": [
      "                                                                         \r"
     ]
    },
    {
     "name": "stdout",
     "output_type": "stream",
     "text": [
      "Epoch 1/10, Training Loss: 0.6831, Training Accuracy: 0.6913, Validation Loss: 0.5881, Validation Accuracy: 0.7690\n"
     ]
    },
    {
     "name": "stderr",
     "output_type": "stream",
     "text": [
      "                                                                         \r"
     ]
    },
    {
     "name": "stdout",
     "output_type": "stream",
     "text": [
      "Epoch 2/10, Training Loss: 0.5644, Training Accuracy: 0.7863, Validation Loss: 0.5396, Validation Accuracy: 0.7861\n"
     ]
    },
    {
     "name": "stderr",
     "output_type": "stream",
     "text": [
      "                                                                         \r"
     ]
    },
    {
     "name": "stdout",
     "output_type": "stream",
     "text": [
      "Epoch 3/10, Training Loss: 0.4949, Training Accuracy: 0.8196, Validation Loss: 0.5259, Validation Accuracy: 0.7913\n",
      "\n",
      "\n",
      "\n",
      "\n",
      "----- Training w/ hidden_sz: 64, num_layer: 4, d_r: 0.3 -----\n"
     ]
    },
    {
     "name": "stderr",
     "output_type": "stream",
     "text": [
      "                                                                         \r"
     ]
    },
    {
     "name": "stdout",
     "output_type": "stream",
     "text": [
      "Epoch 1/10, Training Loss: 0.7037, Training Accuracy: 0.6333, Validation Loss: 0.5897, Validation Accuracy: 0.7388\n"
     ]
    },
    {
     "name": "stderr",
     "output_type": "stream",
     "text": [
      "                                                                         \r"
     ]
    },
    {
     "name": "stdout",
     "output_type": "stream",
     "text": [
      "Epoch 2/10, Training Loss: 0.5638, Training Accuracy: 0.7767, Validation Loss: 0.5533, Validation Accuracy: 0.7874\n"
     ]
    },
    {
     "name": "stderr",
     "output_type": "stream",
     "text": [
      "                                                                         \r"
     ]
    },
    {
     "name": "stdout",
     "output_type": "stream",
     "text": [
      "Epoch 3/10, Training Loss: 0.4938, Training Accuracy: 0.8208, Validation Loss: 0.5227, Validation Accuracy: 0.7992\n"
     ]
    },
    {
     "name": "stderr",
     "output_type": "stream",
     "text": [
      "                                                                         \r"
     ]
    },
    {
     "name": "stdout",
     "output_type": "stream",
     "text": [
      "Epoch 4/10, Training Loss: 0.4405, Training Accuracy: 0.8447, Validation Loss: 0.5311, Validation Accuracy: 0.8045\n",
      "\n",
      "\n",
      "\n",
      "\n",
      "----- Training w/ hidden_sz: 64, num_layer: 5, d_r: 0.2 -----\n"
     ]
    },
    {
     "name": "stderr",
     "output_type": "stream",
     "text": [
      "                                                                         \r"
     ]
    },
    {
     "name": "stdout",
     "output_type": "stream",
     "text": [
      "Epoch 1/10, Training Loss: 0.6934, Training Accuracy: 0.6850, Validation Loss: 0.6002, Validation Accuracy: 0.7677\n"
     ]
    },
    {
     "name": "stderr",
     "output_type": "stream",
     "text": [
      "                                                                        \r"
     ]
    },
    {
     "name": "stdout",
     "output_type": "stream",
     "text": [
      "Epoch 2/10, Training Loss: 0.5596, Training Accuracy: 0.7780, Validation Loss: 0.5390, Validation Accuracy: 0.7703\n",
      "\n",
      "\n",
      "\n",
      "\n",
      "----- Training w/ hidden_sz: 64, num_layer: 5, d_r: 0.3 -----\n"
     ]
    },
    {
     "name": "stderr",
     "output_type": "stream",
     "text": [
      "                                                                         \r"
     ]
    },
    {
     "name": "stdout",
     "output_type": "stream",
     "text": [
      "Epoch 1/10, Training Loss: 0.6817, Training Accuracy: 0.6884, Validation Loss: 0.5653, Validation Accuracy: 0.7822\n"
     ]
    },
    {
     "name": "stderr",
     "output_type": "stream",
     "text": [
      "                                                                         \r"
     ]
    },
    {
     "name": "stdout",
     "output_type": "stream",
     "text": [
      "Epoch 2/10, Training Loss: 0.5467, Training Accuracy: 0.7881, Validation Loss: 0.5457, Validation Accuracy: 0.7927\n"
     ]
    },
    {
     "name": "stderr",
     "output_type": "stream",
     "text": [
      "                                                                         \r"
     ]
    },
    {
     "name": "stdout",
     "output_type": "stream",
     "text": [
      "Epoch 3/10, Training Loss: 0.4929, Training Accuracy: 0.8210, Validation Loss: 0.5423, Validation Accuracy: 0.7756\n",
      "\n",
      "\n",
      "\n",
      "\n",
      "----- Training w/ hidden_sz: 128, num_layer: 2, d_r: 0.2 -----\n"
     ]
    },
    {
     "name": "stderr",
     "output_type": "stream",
     "text": [
      "                                                                          \r"
     ]
    },
    {
     "name": "stdout",
     "output_type": "stream",
     "text": [
      "Epoch 1/10, Training Loss: 0.6875, Training Accuracy: 0.6925, Validation Loss: 0.5760, Validation Accuracy: 0.7638\n"
     ]
    },
    {
     "name": "stderr",
     "output_type": "stream",
     "text": [
      "                                                                         \r"
     ]
    },
    {
     "name": "stdout",
     "output_type": "stream",
     "text": [
      "Epoch 2/10, Training Loss: 0.5605, Training Accuracy: 0.7863, Validation Loss: 0.5424, Validation Accuracy: 0.7756\n"
     ]
    },
    {
     "name": "stderr",
     "output_type": "stream",
     "text": [
      "                                                                          \r"
     ]
    },
    {
     "name": "stdout",
     "output_type": "stream",
     "text": [
      "Epoch 3/10, Training Loss: 0.5010, Training Accuracy: 0.8094, Validation Loss: 0.5301, Validation Accuracy: 0.7979\n"
     ]
    },
    {
     "name": "stderr",
     "output_type": "stream",
     "text": [
      "                                                                          \r"
     ]
    },
    {
     "name": "stdout",
     "output_type": "stream",
     "text": [
      "Epoch 4/10, Training Loss: 0.4451, Training Accuracy: 0.8435, Validation Loss: 0.5408, Validation Accuracy: 0.8110\n"
     ]
    },
    {
     "name": "stderr",
     "output_type": "stream",
     "text": [
      "                                                                        \r"
     ]
    },
    {
     "name": "stdout",
     "output_type": "stream",
     "text": [
      "Epoch 5/10, Training Loss: 0.4099, Training Accuracy: 0.8562, Validation Loss: 0.5261, Validation Accuracy: 0.7927\n",
      "\n",
      "\n",
      "\n",
      "\n",
      "----- Training w/ hidden_sz: 128, num_layer: 2, d_r: 0.3 -----\n"
     ]
    },
    {
     "name": "stderr",
     "output_type": "stream",
     "text": [
      "                                                                          \r"
     ]
    },
    {
     "name": "stdout",
     "output_type": "stream",
     "text": [
      "Epoch 1/10, Training Loss: 0.7341, Training Accuracy: 0.6253, Validation Loss: 0.7332, Validation Accuracy: 0.5919\n"
     ]
    },
    {
     "name": "stderr",
     "output_type": "stream",
     "text": [
      "                                                                          \r"
     ]
    },
    {
     "name": "stdout",
     "output_type": "stream",
     "text": [
      "Epoch 2/10, Training Loss: 0.6077, Training Accuracy: 0.7437, Validation Loss: 0.5701, Validation Accuracy: 0.7585\n"
     ]
    },
    {
     "name": "stderr",
     "output_type": "stream",
     "text": [
      "                                                                          \r"
     ]
    },
    {
     "name": "stdout",
     "output_type": "stream",
     "text": [
      "Epoch 3/10, Training Loss: 0.5288, Training Accuracy: 0.7973, Validation Loss: 0.5376, Validation Accuracy: 0.7795\n"
     ]
    },
    {
     "name": "stderr",
     "output_type": "stream",
     "text": [
      "                                                                          \r"
     ]
    },
    {
     "name": "stdout",
     "output_type": "stream",
     "text": [
      "Epoch 4/10, Training Loss: 0.4691, Training Accuracy: 0.8297, Validation Loss: 0.5402, Validation Accuracy: 0.7782\n",
      "\n",
      "\n",
      "\n",
      "\n",
      "----- Training w/ hidden_sz: 128, num_layer: 3, d_r: 0.2 -----\n"
     ]
    },
    {
     "name": "stderr",
     "output_type": "stream",
     "text": [
      "                                                                         \r"
     ]
    },
    {
     "name": "stdout",
     "output_type": "stream",
     "text": [
      "Epoch 1/10, Training Loss: 0.6681, Training Accuracy: 0.7053, Validation Loss: 0.5737, Validation Accuracy: 0.7730\n"
     ]
    },
    {
     "name": "stderr",
     "output_type": "stream",
     "text": [
      "                                                                          \r"
     ]
    },
    {
     "name": "stdout",
     "output_type": "stream",
     "text": [
      "Epoch 2/10, Training Loss: 0.5610, Training Accuracy: 0.7794, Validation Loss: 0.5417, Validation Accuracy: 0.7822\n"
     ]
    },
    {
     "name": "stderr",
     "output_type": "stream",
     "text": [
      "                                                                          \r"
     ]
    },
    {
     "name": "stdout",
     "output_type": "stream",
     "text": [
      "Epoch 3/10, Training Loss: 0.4920, Training Accuracy: 0.8203, Validation Loss: 0.5269, Validation Accuracy: 0.7992\n"
     ]
    },
    {
     "name": "stderr",
     "output_type": "stream",
     "text": [
      "                                                                         \r"
     ]
    },
    {
     "name": "stdout",
     "output_type": "stream",
     "text": [
      "Epoch 4/10, Training Loss: 0.4408, Training Accuracy: 0.8415, Validation Loss: 0.5542, Validation Accuracy: 0.7572\n",
      "\n",
      "\n",
      "\n",
      "\n",
      "----- Training w/ hidden_sz: 128, num_layer: 3, d_r: 0.3 -----\n"
     ]
    },
    {
     "name": "stderr",
     "output_type": "stream",
     "text": [
      "                                                                         \r"
     ]
    },
    {
     "name": "stdout",
     "output_type": "stream",
     "text": [
      "Epoch 1/10, Training Loss: 0.6984, Training Accuracy: 0.6808, Validation Loss: 0.6094, Validation Accuracy: 0.7703\n"
     ]
    },
    {
     "name": "stderr",
     "output_type": "stream",
     "text": [
      "                                                                         \r"
     ]
    },
    {
     "name": "stdout",
     "output_type": "stream",
     "text": [
      "Epoch 2/10, Training Loss: 0.5607, Training Accuracy: 0.7898, Validation Loss: 0.5373, Validation Accuracy: 0.7953\n"
     ]
    },
    {
     "name": "stderr",
     "output_type": "stream",
     "text": [
      "                                                                         \r"
     ]
    },
    {
     "name": "stdout",
     "output_type": "stream",
     "text": [
      "Epoch 3/10, Training Loss: 0.5035, Training Accuracy: 0.8180, Validation Loss: 0.5447, Validation Accuracy: 0.7769\n",
      "\n",
      "\n",
      "\n",
      "\n",
      "----- Training w/ hidden_sz: 128, num_layer: 4, d_r: 0.2 -----\n"
     ]
    },
    {
     "name": "stderr",
     "output_type": "stream",
     "text": [
      "                                                                         \r"
     ]
    },
    {
     "name": "stdout",
     "output_type": "stream",
     "text": [
      "Epoch 1/10, Training Loss: 0.6668, Training Accuracy: 0.7033, Validation Loss: 0.5776, Validation Accuracy: 0.7520\n"
     ]
    },
    {
     "name": "stderr",
     "output_type": "stream",
     "text": [
      "                                                                         \r"
     ]
    },
    {
     "name": "stdout",
     "output_type": "stream",
     "text": [
      "Epoch 2/10, Training Loss: 0.5490, Training Accuracy: 0.7884, Validation Loss: 0.5424, Validation Accuracy: 0.7795\n"
     ]
    },
    {
     "name": "stderr",
     "output_type": "stream",
     "text": [
      "                                                                         \r"
     ]
    },
    {
     "name": "stdout",
     "output_type": "stream",
     "text": [
      "Epoch 3/10, Training Loss: 0.4884, Training Accuracy: 0.8232, Validation Loss: 0.5205, Validation Accuracy: 0.7953\n"
     ]
    },
    {
     "name": "stderr",
     "output_type": "stream",
     "text": [
      "                                                                        \r"
     ]
    },
    {
     "name": "stdout",
     "output_type": "stream",
     "text": [
      "Epoch 4/10, Training Loss: 0.4404, Training Accuracy: 0.8463, Validation Loss: 0.5882, Validation Accuracy: 0.7638\n",
      "\n",
      "\n",
      "\n",
      "\n",
      "----- Training w/ hidden_sz: 128, num_layer: 4, d_r: 0.3 -----\n"
     ]
    },
    {
     "name": "stderr",
     "output_type": "stream",
     "text": [
      "                                                                         \r"
     ]
    },
    {
     "name": "stdout",
     "output_type": "stream",
     "text": [
      "Epoch 1/10, Training Loss: 0.7161, Training Accuracy: 0.6608, Validation Loss: 0.6133, Validation Accuracy: 0.7415\n"
     ]
    },
    {
     "name": "stderr",
     "output_type": "stream",
     "text": [
      "                                                                         \r"
     ]
    },
    {
     "name": "stdout",
     "output_type": "stream",
     "text": [
      "Epoch 2/10, Training Loss: 0.5875, Training Accuracy: 0.7647, Validation Loss: 0.5780, Validation Accuracy: 0.7428\n",
      "\n",
      "\n",
      "\n",
      "\n",
      "----- Training w/ hidden_sz: 128, num_layer: 5, d_r: 0.2 -----\n"
     ]
    },
    {
     "name": "stderr",
     "output_type": "stream",
     "text": [
      "                                                                         \r"
     ]
    },
    {
     "name": "stdout",
     "output_type": "stream",
     "text": [
      "Epoch 1/10, Training Loss: 0.6630, Training Accuracy: 0.6876, Validation Loss: 0.5751, Validation Accuracy: 0.7835\n"
     ]
    },
    {
     "name": "stderr",
     "output_type": "stream",
     "text": [
      "                                                                         \r"
     ]
    },
    {
     "name": "stdout",
     "output_type": "stream",
     "text": [
      "Epoch 2/10, Training Loss: 0.5528, Training Accuracy: 0.7805, Validation Loss: 0.5557, Validation Accuracy: 0.7979\n"
     ]
    },
    {
     "name": "stderr",
     "output_type": "stream",
     "text": [
      "                                                                         \r"
     ]
    },
    {
     "name": "stdout",
     "output_type": "stream",
     "text": [
      "Epoch 3/10, Training Loss: 0.4977, Training Accuracy: 0.8219, Validation Loss: 0.5727, Validation Accuracy: 0.7625\n",
      "\n",
      "\n",
      "\n",
      "\n",
      "----- Training w/ hidden_sz: 128, num_layer: 5, d_r: 0.3 -----\n"
     ]
    },
    {
     "name": "stderr",
     "output_type": "stream",
     "text": [
      "                                                                         \r"
     ]
    },
    {
     "name": "stdout",
     "output_type": "stream",
     "text": [
      "Epoch 1/10, Training Loss: 0.6638, Training Accuracy: 0.6784, Validation Loss: 0.5906, Validation Accuracy: 0.7690\n"
     ]
    },
    {
     "name": "stderr",
     "output_type": "stream",
     "text": [
      "                                                                         \r"
     ]
    },
    {
     "name": "stdout",
     "output_type": "stream",
     "text": [
      "Epoch 2/10, Training Loss: 0.5681, Training Accuracy: 0.7679, Validation Loss: 0.5659, Validation Accuracy: 0.7769\n"
     ]
    },
    {
     "name": "stderr",
     "output_type": "stream",
     "text": [
      "                                                                         \r"
     ]
    },
    {
     "name": "stdout",
     "output_type": "stream",
     "text": [
      "Epoch 3/10, Training Loss: 0.4918, Training Accuracy: 0.8161, Validation Loss: 0.5354, Validation Accuracy: 0.7900\n"
     ]
    },
    {
     "name": "stderr",
     "output_type": "stream",
     "text": [
      "                                                                         \r"
     ]
    },
    {
     "name": "stdout",
     "output_type": "stream",
     "text": [
      "Epoch 4/10, Training Loss: 0.4443, Training Accuracy: 0.8405, Validation Loss: 0.5458, Validation Accuracy: 0.7769\n",
      "\n",
      "\n",
      "\n",
      "\n"
     ]
    }
   ],
   "source": [
    "hidden_sizes = [32, 64, 128]\n",
    "num_layers = [2,3,4,5]\n",
    "dropout_rates= [.2, .3]\n",
    "\n",
    "best_acc = 0.0\n",
    "best_model = None\n",
    "best_hyperparameter_set = tuple()\n",
    "\n",
    "for hidden_size in hidden_sizes:\n",
    "    for num_layer in num_layers:\n",
    "        for dropout_rate in dropout_rates:\n",
    "            current_embed_matrix = create_embedding_matrix(VOCAB, glove_dict, embedding_dimension)\n",
    "            current_model = BiLSTMClassifier(embedding_matrix=current_embed_matrix, hidden_size=hidden_size, num_layers=num_layer, dropout=dropout_rate)\n",
    "            current_model.to(device)\n",
    "            \n",
    "            optimizer = optim.Adam(current_model.parameters(), lr=learning_rate)\n",
    "            \n",
    "            print(f\"----- Training w/ hidden_sz: {hidden_size}, num_layer: {num_layer}, d_r: {dropout_rate} -----\")\n",
    "            current_acc = trainer_run(current_model, optimizer, train_loader, val_loader, device)\n",
    "            \n",
    "            if current_acc > best_acc:\n",
    "                best_acc = current_acc\n",
    "                \n",
    "                best_hyperparameter_set = (hidden_size, num_layer, dropout_rate)\n",
    "                current_model.load_state_dict(torch.load('/kaggle/working/current_lstm_model.pth', weights_only=True))\n",
    "                torch.save(current_model.state_dict(), '/kaggle/working/best_lstm_model.pth')\n",
    "                best_model = current_model\n",
    "                \n",
    "            print(\"\\n\\n\\n\")\n",
    "            "
   ]
  },
  {
   "cell_type": "code",
   "execution_count": 34,
   "id": "67100cd4",
   "metadata": {
    "execution": {
     "iopub.execute_input": "2024-10-12T17:28:35.917962Z",
     "iopub.status.busy": "2024-10-12T17:28:35.917385Z",
     "iopub.status.idle": "2024-10-12T17:28:35.923967Z",
     "shell.execute_reply": "2024-10-12T17:28:35.923103Z"
    },
    "papermill": {
     "duration": 1.597316,
     "end_time": "2024-10-12T17:28:35.925942",
     "exception": false,
     "start_time": "2024-10-12T17:28:34.328626",
     "status": "completed"
    },
    "tags": []
   },
   "outputs": [
    {
     "name": "stdout",
     "output_type": "stream",
     "text": [
      "BEST HYPERPARAMETER SET:\n",
      "hidden_sz: 128 num_layers: 2 d_r:0.2\n",
      "WITH VAL ACCURACY: 0.8110236220472441\n"
     ]
    }
   ],
   "source": [
    "print(f\"BEST HYPERPARAMETER SET:\\nhidden_sz: {best_hyperparameter_set[0]} num_layers: {best_hyperparameter_set[1]} d_r:{best_hyperparameter_set[2]}\\nWITH VAL ACCURACY: {best_acc}\")"
   ]
  },
  {
   "cell_type": "markdown",
   "id": "518d6b18",
   "metadata": {
    "papermill": {
     "duration": 1.582094,
     "end_time": "2024-10-12T17:28:39.092024",
     "exception": false,
     "start_time": "2024-10-12T17:28:37.509930",
     "status": "completed"
    },
    "tags": []
   },
   "source": [
    "## Best Model\n",
    "\n",
    "    - Best model has latent dimension of 64 in internal LSTM states, 3 layers in each direction of LSTM, and dropout rate of .2 for each layer in fully connected neural network.\n",
    "    - The best validation accuracy was 80.18%\n",
    "    - Now show confusion matrix and f1 score of this model"
   ]
  },
  {
   "cell_type": "code",
   "execution_count": 35,
   "id": "5e3fabe0",
   "metadata": {
    "execution": {
     "iopub.execute_input": "2024-10-12T17:28:42.265304Z",
     "iopub.status.busy": "2024-10-12T17:28:42.264924Z",
     "iopub.status.idle": "2024-10-12T17:28:42.271187Z",
     "shell.execute_reply": "2024-10-12T17:28:42.270295Z"
    },
    "papermill": {
     "duration": 1.551409,
     "end_time": "2024-10-12T17:28:42.273143",
     "exception": false,
     "start_time": "2024-10-12T17:28:40.721734",
     "status": "completed"
    },
    "tags": []
   },
   "outputs": [],
   "source": [
    "def inference(model, data_loader, device) -> list[int]:\n",
    "    best_model.eval()\n",
    "    predictions = []\n",
    "\n",
    "    for idx, _ in data_loader:\n",
    "        idx = idx.to(device)\n",
    "        outputs = best_model(idx)\n",
    "            \n",
    "        predicted = (outputs > 0.5).int().reshape(-1)\n",
    "        predictions.extend(predicted.cpu().numpy())\n",
    "        \n",
    "    return predictions"
   ]
  },
  {
   "cell_type": "code",
   "execution_count": 36,
   "id": "40343b5a",
   "metadata": {
    "execution": {
     "iopub.execute_input": "2024-10-12T17:28:45.455583Z",
     "iopub.status.busy": "2024-10-12T17:28:45.455193Z",
     "iopub.status.idle": "2024-10-12T17:28:45.562903Z",
     "shell.execute_reply": "2024-10-12T17:28:45.561889Z"
    },
    "papermill": {
     "duration": 1.711451,
     "end_time": "2024-10-12T17:28:45.565257",
     "exception": false,
     "start_time": "2024-10-12T17:28:43.853806",
     "status": "completed"
    },
    "tags": []
   },
   "outputs": [],
   "source": [
    "validation_predictions = inference(best_model, val_loader, device)"
   ]
  },
  {
   "cell_type": "code",
   "execution_count": 37,
   "id": "939ab50d",
   "metadata": {
    "execution": {
     "iopub.execute_input": "2024-10-12T17:28:48.718991Z",
     "iopub.status.busy": "2024-10-12T17:28:48.718637Z",
     "iopub.status.idle": "2024-10-12T17:28:49.014139Z",
     "shell.execute_reply": "2024-10-12T17:28:49.013195Z"
    },
    "papermill": {
     "duration": 1.877278,
     "end_time": "2024-10-12T17:28:49.016258",
     "exception": false,
     "start_time": "2024-10-12T17:28:47.138980",
     "status": "completed"
    },
    "tags": []
   },
   "outputs": [
    {
     "name": "stdout",
     "output_type": "stream",
     "text": [
      "F1 SCORE: 0.7669902912621359\n"
     ]
    },
    {
     "data": {
      "text/plain": [
       "<sklearn.metrics._plot.confusion_matrix.ConfusionMatrixDisplay at 0x7f50c37e8070>"
      ]
     },
     "execution_count": 37,
     "metadata": {},
     "output_type": "execute_result"
    },
    {
     "data": {
      "image/png": "[encoded data removed]",
      "text/plain": [
       "<Figure size 640x480 with 2 Axes>"
      ]
     },
     "metadata": {},
     "output_type": "display_data"
    }
   ],
   "source": [
    "from sklearn.metrics import f1_score, confusion_matrix, ConfusionMatrixDisplay\n",
    "import matplotlib.pyplot as plt\n",
    "\n",
    "f1 = f1_score(val_df['target'], validation_predictions)\n",
    "print(f\"F1 SCORE: {f1}\")\n",
    "\n",
    "cm = confusion_matrix(val_df['target'], validation_predictions)\n",
    "\n",
    "disp = ConfusionMatrixDisplay(confusion_matrix=cm, display_labels=[0, 1])\n",
    "disp.plot(cmap=plt.cm.Blues)\n"
   ]
  },
  {
   "cell_type": "markdown",
   "id": "d412a42a",
   "metadata": {
    "papermill": {
     "duration": 1.58328,
     "end_time": "2024-10-12T17:28:52.173532",
     "exception": false,
     "start_time": "2024-10-12T17:28:50.590252",
     "status": "completed"
    },
    "tags": []
   },
   "source": [
    "## Submission\n",
    "    \n",
    "    - Reuse custom Dataset, DataLoader, and the best model from grid search to perform inference against the test set"
   ]
  },
  {
   "cell_type": "code",
   "execution_count": 38,
   "id": "6dc4b4dd",
   "metadata": {
    "execution": {
     "iopub.execute_input": "2024-10-12T17:28:55.303672Z",
     "iopub.status.busy": "2024-10-12T17:28:55.303276Z",
     "iopub.status.idle": "2024-10-12T17:28:55.346450Z",
     "shell.execute_reply": "2024-10-12T17:28:55.345424Z"
    },
    "papermill": {
     "duration": 1.64545,
     "end_time": "2024-10-12T17:28:55.348520",
     "exception": false,
     "start_time": "2024-10-12T17:28:53.703070",
     "status": "completed"
    },
    "tags": []
   },
   "outputs": [
    {
     "name": "stdout",
     "output_type": "stream",
     "text": [
      "   id keyword location                                               text\n",
      "0   0     NaN      NaN                 Just happened a terrible car crash\n",
      "1   2     NaN      NaN  Heard about #earthquake is different cities, s...\n",
      "2   3     NaN      NaN  there is a forest fire at spot pond, geese are...\n",
      "3   9     NaN      NaN           Apocalypse lighting. #Spokane #wildfires\n",
      "4  11     NaN      NaN      Typhoon Soudelor kills 28 in China and Taiwan\n",
      "   id  target\n",
      "0   0       0\n",
      "1   2       0\n",
      "2   3       0\n",
      "3   9       0\n",
      "4  11       0\n"
     ]
    }
   ],
   "source": [
    "test_df = pd.read_csv('../input/nlp-getting-started/test.csv')\n",
    "submission_df = pd.read_csv('../input/nlp-getting-started/sample_submission.csv')\n",
    "\n",
    "print(test_df.head(5))\n",
    "\n",
    "print(submission_df.head(5))"
   ]
  },
  {
   "cell_type": "code",
   "execution_count": 39,
   "id": "d7aa8fe5",
   "metadata": {
    "execution": {
     "iopub.execute_input": "2024-10-12T17:28:58.508768Z",
     "iopub.status.busy": "2024-10-12T17:28:58.508376Z",
     "iopub.status.idle": "2024-10-12T17:28:58.514041Z",
     "shell.execute_reply": "2024-10-12T17:28:58.513144Z"
    },
    "papermill": {
     "duration": 1.592986,
     "end_time": "2024-10-12T17:28:58.516015",
     "exception": false,
     "start_time": "2024-10-12T17:28:56.923029",
     "status": "completed"
    },
    "tags": []
   },
   "outputs": [],
   "source": [
    "test_ds = TextDataset(df=test_df, vocab=VOCAB, unknown_token=UNKNOWN_TOKEN, text_col='text', target_col='id', transform=preprocess_text)\n",
    "\n",
    "test_loader = DataLoader(test_ds, batch_size=32, collate_fn=collate_fn,\n",
    "                          num_workers=4, pin_memory=True, persistent_workers=True, prefetch_factor=2)"
   ]
  },
  {
   "cell_type": "code",
   "execution_count": 40,
   "id": "632efd14",
   "metadata": {
    "execution": {
     "iopub.execute_input": "2024-10-12T17:29:01.691138Z",
     "iopub.status.busy": "2024-10-12T17:29:01.690769Z",
     "iopub.status.idle": "2024-10-12T17:29:02.919318Z",
     "shell.execute_reply": "2024-10-12T17:29:02.918001Z"
    },
    "papermill": {
     "duration": 2.819908,
     "end_time": "2024-10-12T17:29:02.921954",
     "exception": false,
     "start_time": "2024-10-12T17:29:00.102046",
     "status": "completed"
    },
    "tags": []
   },
   "outputs": [],
   "source": [
    "test_predictions = inference(best_model, test_loader, device)"
   ]
  },
  {
   "cell_type": "code",
   "execution_count": 41,
   "id": "3d1ac16f",
   "metadata": {
    "execution": {
     "iopub.execute_input": "2024-10-12T17:29:06.097492Z",
     "iopub.status.busy": "2024-10-12T17:29:06.097055Z",
     "iopub.status.idle": "2024-10-12T17:29:06.138717Z",
     "shell.execute_reply": "2024-10-12T17:29:06.137751Z"
    },
    "papermill": {
     "duration": 1.562601,
     "end_time": "2024-10-12T17:29:06.140842",
     "exception": false,
     "start_time": "2024-10-12T17:29:04.578241",
     "status": "completed"
    },
    "tags": []
   },
   "outputs": [
    {
     "data": {
      "text/html": [
       "<div>\n",
       "<style scoped>\n",
       "    .dataframe tbody tr th:only-of-type {\n",
       "        vertical-align: middle;\n",
       "    }\n",
       "\n",
       "    .dataframe tbody tr th {\n",
       "        vertical-align: top;\n",
       "    }\n",
       "\n",
       "    .dataframe thead th {\n",
       "        text-align: right;\n",
       "    }\n",
       "</style>\n",
       "<table border=\"1\" class=\"dataframe\">\n",
       "  <thead>\n",
       "    <tr style=\"text-align: right;\">\n",
       "      <th></th>\n",
       "      <th>id</th>\n",
       "      <th>target</th>\n",
       "    </tr>\n",
       "  </thead>\n",
       "  <tbody>\n",
       "    <tr>\n",
       "      <th>0</th>\n",
       "      <td>0</td>\n",
       "      <td>0</td>\n",
       "    </tr>\n",
       "    <tr>\n",
       "      <th>1</th>\n",
       "      <td>2</td>\n",
       "      <td>1</td>\n",
       "    </tr>\n",
       "    <tr>\n",
       "      <th>2</th>\n",
       "      <td>3</td>\n",
       "      <td>1</td>\n",
       "    </tr>\n",
       "    <tr>\n",
       "      <th>3</th>\n",
       "      <td>9</td>\n",
       "      <td>0</td>\n",
       "    </tr>\n",
       "    <tr>\n",
       "      <th>4</th>\n",
       "      <td>11</td>\n",
       "      <td>1</td>\n",
       "    </tr>\n",
       "  </tbody>\n",
       "</table>\n",
       "</div>"
      ],
      "text/plain": [
       "   id  target\n",
       "0   0       0\n",
       "1   2       1\n",
       "2   3       1\n",
       "3   9       0\n",
       "4  11       1"
      ]
     },
     "execution_count": 41,
     "metadata": {},
     "output_type": "execute_result"
    }
   ],
   "source": [
    "submission_df['target'] = test_predictions\n",
    "submission_df.head(5)"
   ]
  },
  {
   "cell_type": "code",
   "execution_count": 42,
   "id": "8415cc9d",
   "metadata": {
    "execution": {
     "iopub.execute_input": "2024-10-12T17:29:09.291819Z",
     "iopub.status.busy": "2024-10-12T17:29:09.291086Z",
     "iopub.status.idle": "2024-10-12T17:29:09.303618Z",
     "shell.execute_reply": "2024-10-12T17:29:09.302722Z"
    },
    "papermill": {
     "duration": 1.597419,
     "end_time": "2024-10-12T17:29:09.305564",
     "exception": false,
     "start_time": "2024-10-12T17:29:07.708145",
     "status": "completed"
    },
    "tags": []
   },
   "outputs": [],
   "source": [
    "submission_df.to_csv('submission.csv', index=False)"
   ]
  },
  {
   "cell_type": "code",
   "execution_count": null,
   "id": "70e33bde",
   "metadata": {
    "papermill": {
     "duration": 1.594044,
     "end_time": "2024-10-12T17:29:12.508208",
     "exception": false,
     "start_time": "2024-10-12T17:29:10.914164",
     "status": "completed"
    },
    "tags": []
   },
   "outputs": [],
   "source": []
  }
 ],
 "metadata": {
  "kaggle": {
   "accelerator": "gpu",
   "dataSources": [
    {
     "databundleVersionId": 869809,
     "sourceId": 17777,
     "sourceType": "competition"
    }
   ],
   "dockerImageVersionId": 30775,
   "isGpuEnabled": true,
   "isInternetEnabled": true,
   "language": "python",
   "sourceType": "notebook"
  },
  "kernelspec": {
   "display_name": "Python 3",
   "language": "python",
   "name": "python3"
  },
  "language_info": {
   "codemirror_mode": {
    "name": "ipython",
    "version": 3
   },
   "file_extension": ".py",
   "mimetype": "text/x-python",
   "name": "python",
   "nbconvert_exporter": "python",
   "pygments_lexer": "ipython3",
   "version": "3.10.14"
  },
  "papermill": {
   "default_parameters": {},
   "duration": 460.106084,
   "end_time": "2024-10-12T17:29:16.817024",
   "environment_variables": {},
   "exception": null,
   "input_path": "__notebook__.ipynb",
   "output_path": "__notebook__.ipynb",
   "parameters": {},
   "start_time": "2024-10-12T17:21:36.710940",
   "version": "2.6.0"
  }
 },
 "nbformat": 4,
 "nbformat_minor": 5
}
